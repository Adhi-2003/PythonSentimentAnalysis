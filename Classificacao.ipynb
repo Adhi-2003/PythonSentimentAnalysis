{
 "cells": [
  {
   "cell_type": "markdown",
   "metadata": {},
   "source": []
  },
  {
   "cell_type": "code",
   "execution_count": 1,
   "metadata": {},
   "outputs": [],
   "source": [
    "import pandas as pd\n",
    "import matplotlib.pyplot as plt\n",
    "%matplotlib inline\n",
    "\n",
    "from sklearn.feature_extraction.text import TfidfVectorizer\n",
    "\n",
    "from joblib import load\n",
    "\n",
    "from sklearn.linear_model import LogisticRegression\n",
    "from sklearn.naive_bayes import MultinomialNB\n",
    "from sklearn.svm import LinearSVC\n",
    "from sklearn.ensemble import RandomForestClassifier"
   ]
  },
  {
   "cell_type": "code",
   "execution_count": 2,
   "metadata": {},
   "outputs": [],
   "source": [
    "base_coletada = pd.read_csv('dados\\\\resultados\\\\base_coletada_processada.csv')\n",
    "base_coletada = base_coletada.fillna('')"
   ]
  },
  {
   "cell_type": "markdown",
   "metadata": {},
   "source": [
    "## Classificando os modelos\n",
    "Primeiro eles são carregados, juntamente com as features utilizada em seus treinos\n",
    "\n",
    "Depois a base a ser classificada é carregada também, e com as features carregada na célula anterior, é criada uma matriz\n",
    "\n",
    "E por fim é feita a classificação"
   ]
  },
  {
   "cell_type": "code",
   "execution_count": 3,
   "metadata": {},
   "outputs": [],
   "source": [
    "naive_bayes = load('naive_bayes.joblib')\n",
    "logistic_regression = load('logistic_regression.joblib')\n",
    "linear_SVM = load('linear_SVM.joblib')\n",
    "random_forest = load('random_forest.joblib')"
   ]
  },
  {
   "cell_type": "code",
   "execution_count": 4,
   "metadata": {},
   "outputs": [],
   "source": [
    "tfidf_transformer = load('vectorizer.joblib')\n",
    "\n",
    "base_coletada = pd.read_csv('dados\\\\resultados\\\\base_coletada_processada.csv')\n",
    "base_coletada = base_coletada.fillna('')\n",
    "\n",
    "X_tfidf = tfidf_transformer.transform(base_coletada['Texto Processado'])"
   ]
  },
  {
   "cell_type": "code",
   "execution_count": 5,
   "metadata": {},
   "outputs": [],
   "source": [
    "y_previsto_MNR =  naive_bayes.predict(X_tfidf)\n",
    "y_previsto_LR = logistic_regression.predict(X_tfidf)\n",
    "y_previsto_LSVM = linear_SVM.predict(X_tfidf)\n",
    "y_previsto_RF = random_forest.predict(X_tfidf)"
   ]
  },
  {
   "cell_type": "markdown",
   "metadata": {},
   "source": [
    "## Novo dataframe incluindo o resultado de cada classificação"
   ]
  },
  {
   "cell_type": "code",
   "execution_count": 6,
   "metadata": {},
   "outputs": [],
   "source": [
    "resultado_classificacao = pd.DataFrame(data={\"Mes\": base_coletada[\"mes\"], \"Texto\" : base_coletada[\"text\"], \"Texto_Processado\" : base_coletada['Texto Processado'], \"Naive_Bayes\" : y_previsto_MNR, \"Logistic_Regression\" : y_previsto_LR, \"SVM\" : y_previsto_LSVM, \"Random_Forest\" : y_previsto_RF})"
   ]
  },
  {
   "cell_type": "code",
   "execution_count": 7,
   "metadata": {},
   "outputs": [
    {
     "data": {
      "text/html": [
       "<div>\n",
       "<style scoped>\n",
       "    .dataframe tbody tr th:only-of-type {\n",
       "        vertical-align: middle;\n",
       "    }\n",
       "\n",
       "    .dataframe tbody tr th {\n",
       "        vertical-align: top;\n",
       "    }\n",
       "\n",
       "    .dataframe thead th {\n",
       "        text-align: right;\n",
       "    }\n",
       "</style>\n",
       "<table border=\"1\" class=\"dataframe\">\n",
       "  <thead>\n",
       "    <tr style=\"text-align: right;\">\n",
       "      <th></th>\n",
       "      <th>Mes</th>\n",
       "      <th>Texto</th>\n",
       "      <th>Texto_Processado</th>\n",
       "      <th>Naive_Bayes</th>\n",
       "      <th>Logistic_Regression</th>\n",
       "      <th>SVM</th>\n",
       "      <th>Random_Forest</th>\n",
       "    </tr>\n",
       "  </thead>\n",
       "  <tbody>\n",
       "    <tr>\n",
       "      <td>0</td>\n",
       "      <td>Janeiro</td>\n",
       "      <td>☝️E jornalista sabichão apoiando reforma fasci...</td>\n",
       "      <td>emoticon_positivo ️ jornalista sabichão apoian...</td>\n",
       "      <td>Positivo</td>\n",
       "      <td>Positivo</td>\n",
       "      <td>Positivo</td>\n",
       "      <td>Positivo</td>\n",
       "    </tr>\n",
       "    <tr>\n",
       "      <td>1</td>\n",
       "      <td>Janeiro</td>\n",
       "      <td>Isso é só uma demostração do que virar quando ...</td>\n",
       "      <td>demostração virar chegar congresso</td>\n",
       "      <td>Negativo</td>\n",
       "      <td>Neutro</td>\n",
       "      <td>Neutro</td>\n",
       "      <td>Neutro</td>\n",
       "    </tr>\n",
       "    <tr>\n",
       "      <td>2</td>\n",
       "      <td>Janeiro</td>\n",
       "      <td>Governo diz que espera aprovar reforma da Prev...</td>\n",
       "      <td>governo diz espera aprovar 1º semestre</td>\n",
       "      <td>Neutro</td>\n",
       "      <td>Neutro</td>\n",
       "      <td>Neutro</td>\n",
       "      <td>Neutro</td>\n",
       "    </tr>\n",
       "    <tr>\n",
       "      <td>3</td>\n",
       "      <td>Janeiro</td>\n",
       "      <td>Joice, mudadando de assunto, é verdade q o gov...</td>\n",
       "      <td>joice mudadando assunto verdade governo pedind...</td>\n",
       "      <td>Negativo</td>\n",
       "      <td>Negativo</td>\n",
       "      <td>Negativo</td>\n",
       "      <td>Negativo</td>\n",
       "    </tr>\n",
       "    <tr>\n",
       "      <td>4</td>\n",
       "      <td>Janeiro</td>\n",
       "      <td>meu pai foi muito bolsominion arrepedindo fala...</td>\n",
       "      <td>pai bolsominion arrepedindo falando discurso m...</td>\n",
       "      <td>Positivo</td>\n",
       "      <td>Positivo</td>\n",
       "      <td>Positivo</td>\n",
       "      <td>Neutro</td>\n",
       "    </tr>\n",
       "  </tbody>\n",
       "</table>\n",
       "</div>"
      ],
      "text/plain": [
       "       Mes                                              Texto  \\\n",
       "0  Janeiro  ☝️E jornalista sabichão apoiando reforma fasci...   \n",
       "1  Janeiro  Isso é só uma demostração do que virar quando ...   \n",
       "2  Janeiro  Governo diz que espera aprovar reforma da Prev...   \n",
       "3  Janeiro  Joice, mudadando de assunto, é verdade q o gov...   \n",
       "4  Janeiro  meu pai foi muito bolsominion arrepedindo fala...   \n",
       "\n",
       "                                    Texto_Processado Naive_Bayes  \\\n",
       "0  emoticon_positivo ️ jornalista sabichão apoian...    Positivo   \n",
       "1                 demostração virar chegar congresso    Negativo   \n",
       "2             governo diz espera aprovar 1º semestre      Neutro   \n",
       "3  joice mudadando assunto verdade governo pedind...    Negativo   \n",
       "4  pai bolsominion arrepedindo falando discurso m...    Positivo   \n",
       "\n",
       "  Logistic_Regression       SVM Random_Forest  \n",
       "0            Positivo  Positivo      Positivo  \n",
       "1              Neutro    Neutro        Neutro  \n",
       "2              Neutro    Neutro        Neutro  \n",
       "3            Negativo  Negativo      Negativo  \n",
       "4            Positivo  Positivo        Neutro  "
      ]
     },
     "execution_count": 7,
     "metadata": {},
     "output_type": "execute_result"
    }
   ],
   "source": [
    "resultado_classificacao.head()"
   ]
  },
  {
   "cell_type": "code",
   "execution_count": 8,
   "metadata": {},
   "outputs": [],
   "source": [
    "resultado_classificacao.to_csv('dados\\\\resultados\\\\coletada_processada_classificada.csv', index=False)"
   ]
  },
  {
   "cell_type": "markdown",
   "metadata": {},
   "source": [
    "## Contagem de classes para cada algoritmo"
   ]
  },
  {
   "cell_type": "code",
   "execution_count": 9,
   "metadata": {},
   "outputs": [
    {
     "data": {
      "text/plain": [
       "Positivo    409855\n",
       "Neutro      358335\n",
       "Negativo    212387\n",
       "Name: Naive_Bayes, dtype: int64"
      ]
     },
     "execution_count": 9,
     "metadata": {},
     "output_type": "execute_result"
    }
   ],
   "source": [
    "resultado_classificacao['Naive_Bayes'].value_counts()"
   ]
  },
  {
   "cell_type": "code",
   "execution_count": 10,
   "metadata": {},
   "outputs": [
    {
     "data": {
      "text/plain": [
       "Neutro      724700\n",
       "Positivo    209452\n",
       "Negativo     46425\n",
       "Name: Logistic_Regression, dtype: int64"
      ]
     },
     "execution_count": 10,
     "metadata": {},
     "output_type": "execute_result"
    }
   ],
   "source": [
    "resultado_classificacao['Logistic_Regression'].value_counts()"
   ]
  },
  {
   "cell_type": "code",
   "execution_count": 11,
   "metadata": {},
   "outputs": [
    {
     "data": {
      "text/plain": [
       "Neutro      704255\n",
       "Positivo    222860\n",
       "Negativo     53462\n",
       "Name: SVM, dtype: int64"
      ]
     },
     "execution_count": 11,
     "metadata": {},
     "output_type": "execute_result"
    }
   ],
   "source": [
    "resultado_classificacao[\"SVM\"].value_counts()"
   ]
  },
  {
   "cell_type": "code",
   "execution_count": 12,
   "metadata": {},
   "outputs": [
    {
     "data": {
      "text/plain": [
       "Neutro      842722\n",
       "Positivo     69066\n",
       "Negativo     68789\n",
       "Name: Random_Forest, dtype: int64"
      ]
     },
     "execution_count": 12,
     "metadata": {},
     "output_type": "execute_result"
    }
   ],
   "source": [
    "resultado_classificacao[\"Random_Forest\"].value_counts()"
   ]
  },
  {
   "cell_type": "markdown",
   "metadata": {},
   "source": [
    "# Tabelas com a classe pelo mês "
   ]
  },
  {
   "cell_type": "code",
   "execution_count": 13,
   "metadata": {},
   "outputs": [],
   "source": [
    "#Função para auxiliar a consulta na base de dados classificada\n",
    "def _quantidadeClasses(mes, algoritmo):\n",
    "    positivos = (resultado_classificacao.query(\"Mes == '\"+mes+\"' and \"+algoritmo+\" == 'Positivo'\"))[algoritmo].count()\n",
    "    negativos = (resultado_classificacao.query(\"Mes == '\"+mes+\"' and  \"+algoritmo+\"== 'Negativo'\"))[algoritmo].count()\n",
    "    neutros = (resultado_classificacao.query(\"Mes == '\"+mes+\"' and \"+algoritmo+\" == 'Neutro'\"))[algoritmo].count()\n",
    "    \n",
    "    return positivos, negativos, neutros"
   ]
  },
  {
   "cell_type": "markdown",
   "metadata": {},
   "source": [
    "Tabela MultinomialNB"
   ]
  },
  {
   "cell_type": "code",
   "execution_count": 14,
   "metadata": {},
   "outputs": [
    {
     "data": {
      "text/html": [
       "<div>\n",
       "<style scoped>\n",
       "    .dataframe tbody tr th:only-of-type {\n",
       "        vertical-align: middle;\n",
       "    }\n",
       "\n",
       "    .dataframe tbody tr th {\n",
       "        vertical-align: top;\n",
       "    }\n",
       "\n",
       "    .dataframe thead th {\n",
       "        text-align: right;\n",
       "    }\n",
       "</style>\n",
       "<table border=\"1\" class=\"dataframe\">\n",
       "  <thead>\n",
       "    <tr style=\"text-align: right;\">\n",
       "      <th></th>\n",
       "      <th>Positivo</th>\n",
       "      <th>Negativo</th>\n",
       "      <th>Neutro</th>\n",
       "    </tr>\n",
       "  </thead>\n",
       "  <tbody>\n",
       "    <tr>\n",
       "      <td>Janeiro</td>\n",
       "      <td>13942</td>\n",
       "      <td>5180</td>\n",
       "      <td>10594</td>\n",
       "    </tr>\n",
       "    <tr>\n",
       "      <td>Fevereiro</td>\n",
       "      <td>43479</td>\n",
       "      <td>21083</td>\n",
       "      <td>40013</td>\n",
       "    </tr>\n",
       "    <tr>\n",
       "      <td>Março</td>\n",
       "      <td>66616</td>\n",
       "      <td>31014</td>\n",
       "      <td>50471</td>\n",
       "    </tr>\n",
       "    <tr>\n",
       "      <td>Abril</td>\n",
       "      <td>54775</td>\n",
       "      <td>29773</td>\n",
       "      <td>50168</td>\n",
       "    </tr>\n",
       "    <tr>\n",
       "      <td>Maio</td>\n",
       "      <td>64925</td>\n",
       "      <td>31758</td>\n",
       "      <td>49679</td>\n",
       "    </tr>\n",
       "    <tr>\n",
       "      <td>Junho</td>\n",
       "      <td>42337</td>\n",
       "      <td>18447</td>\n",
       "      <td>43231</td>\n",
       "    </tr>\n",
       "    <tr>\n",
       "      <td>Julho</td>\n",
       "      <td>57968</td>\n",
       "      <td>32676</td>\n",
       "      <td>50411</td>\n",
       "    </tr>\n",
       "    <tr>\n",
       "      <td>Agosto</td>\n",
       "      <td>15464</td>\n",
       "      <td>9671</td>\n",
       "      <td>15864</td>\n",
       "    </tr>\n",
       "    <tr>\n",
       "      <td>Setembro</td>\n",
       "      <td>17950</td>\n",
       "      <td>12309</td>\n",
       "      <td>16112</td>\n",
       "    </tr>\n",
       "    <tr>\n",
       "      <td>Outubro</td>\n",
       "      <td>24940</td>\n",
       "      <td>16293</td>\n",
       "      <td>23969</td>\n",
       "    </tr>\n",
       "    <tr>\n",
       "      <td>Novembro</td>\n",
       "      <td>7459</td>\n",
       "      <td>4183</td>\n",
       "      <td>7823</td>\n",
       "    </tr>\n",
       "  </tbody>\n",
       "</table>\n",
       "</div>"
      ],
      "text/plain": [
       "           Positivo  Negativo  Neutro\n",
       "Janeiro       13942      5180   10594\n",
       "Fevereiro     43479     21083   40013\n",
       "Março         66616     31014   50471\n",
       "Abril         54775     29773   50168\n",
       "Maio          64925     31758   49679\n",
       "Junho         42337     18447   43231\n",
       "Julho         57968     32676   50411\n",
       "Agosto        15464      9671   15864\n",
       "Setembro      17950     12309   16112\n",
       "Outubro       24940     16293   23969\n",
       "Novembro       7459      4183    7823"
      ]
     },
     "execution_count": 14,
     "metadata": {},
     "output_type": "execute_result"
    }
   ],
   "source": [
    "MultinomialNB = pd.DataFrame([ _quantidadeClasses('Janeiro', 'Naive_Bayes')], index=[\"Janeiro\"], columns=[\"Positivo\", \"Negativo\", \"Neutro\"])\n",
    "MultinomialNB = pd.concat([MultinomialNB, pd.DataFrame([ _quantidadeClasses('Fevereiro', 'Naive_Bayes')], index=[\"Fevereiro\"], columns=[\"Positivo\", \"Negativo\", \"Neutro\"])])\n",
    "MultinomialNB = pd.concat([MultinomialNB, pd.DataFrame([ _quantidadeClasses('Marco', 'Naive_Bayes')], index=[\"Março\"], columns=[\"Positivo\", \"Negativo\", \"Neutro\"])])\n",
    "MultinomialNB = pd.concat([MultinomialNB, pd.DataFrame([ _quantidadeClasses('Abril', 'Naive_Bayes')], index=[\"Abril\"], columns=[\"Positivo\", \"Negativo\", \"Neutro\"])])\n",
    "MultinomialNB = pd.concat([MultinomialNB, pd.DataFrame([ _quantidadeClasses('Maio', 'Naive_Bayes')], index=[\"Maio\"], columns=[\"Positivo\", \"Negativo\", \"Neutro\"])])\n",
    "MultinomialNB = pd.concat([MultinomialNB, pd.DataFrame([ _quantidadeClasses('Junho', 'Naive_Bayes')], index=[\"Junho\"], columns=[\"Positivo\", \"Negativo\", \"Neutro\"])])\n",
    "MultinomialNB = pd.concat([MultinomialNB, pd.DataFrame([ _quantidadeClasses('Julho', 'Naive_Bayes')], index=[\"Julho\"], columns=[\"Positivo\", \"Negativo\", \"Neutro\"])])\n",
    "MultinomialNB = pd.concat([MultinomialNB, pd.DataFrame([ _quantidadeClasses('Agosto', 'Naive_Bayes')], index=[\"Agosto\"], columns=[\"Positivo\", \"Negativo\", \"Neutro\"])])\n",
    "MultinomialNB = pd.concat([MultinomialNB, pd.DataFrame([ _quantidadeClasses('Setembro', 'Naive_Bayes')], index=[\"Setembro\"], columns=[\"Positivo\", \"Negativo\", \"Neutro\"])])\n",
    "MultinomialNB = pd.concat([MultinomialNB, pd.DataFrame([ _quantidadeClasses('Outubro', 'Naive_Bayes')], index=[\"Outubro\"], columns=[\"Positivo\", \"Negativo\", \"Neutro\"])])\n",
    "MultinomialNB = pd.concat([MultinomialNB, pd.DataFrame([ _quantidadeClasses('Novembro', 'Naive_Bayes')], index=[\"Novembro\"], columns=[\"Positivo\", \"Negativo\", \"Neutro\"])])\n",
    "MultinomialNB"
   ]
  },
  {
   "cell_type": "markdown",
   "metadata": {},
   "source": [
    "Gráfico com a quantidade total de classes pelo Naive Bayes"
   ]
  },
  {
   "cell_type": "code",
   "execution_count": 15,
   "metadata": {},
   "outputs": [
    {
     "data": {
      "image/png": "[encoded data removed]",
      "text/plain": [
       "<Figure size 432x288 with 1 Axes>"
      ]
     },
     "metadata": {},
     "output_type": "display_data"
    }
   ],
   "source": [
    "fig = plt.figure()\n",
    "ax = fig.add_axes([0,0,1,1])\n",
    "classes = ['Positivo', 'Negativo', 'Neutro']\n",
    "algoritmo = [MultinomialNB[\"Positivo\"].sum(), MultinomialNB[\"Negativo\"].sum(), MultinomialNB[\"Neutro\"].sum()]\n",
    "ax.pie(algoritmo, labels=classes, autopct='%1.2f%%')\n",
    "plt.show()"
   ]
  },
  {
   "cell_type": "markdown",
   "metadata": {},
   "source": [
    "Tabela Logistic Regression"
   ]
  },
  {
   "cell_type": "code",
   "execution_count": 16,
   "metadata": {},
   "outputs": [
    {
     "data": {
      "text/html": [
       "<div>\n",
       "<style scoped>\n",
       "    .dataframe tbody tr th:only-of-type {\n",
       "        vertical-align: middle;\n",
       "    }\n",
       "\n",
       "    .dataframe tbody tr th {\n",
       "        vertical-align: top;\n",
       "    }\n",
       "\n",
       "    .dataframe thead th {\n",
       "        text-align: right;\n",
       "    }\n",
       "</style>\n",
       "<table border=\"1\" class=\"dataframe\">\n",
       "  <thead>\n",
       "    <tr style=\"text-align: right;\">\n",
       "      <th></th>\n",
       "      <th>Positivo</th>\n",
       "      <th>Negativo</th>\n",
       "      <th>Neutro</th>\n",
       "    </tr>\n",
       "  </thead>\n",
       "  <tbody>\n",
       "    <tr>\n",
       "      <td>Janeiro</td>\n",
       "      <td>7070</td>\n",
       "      <td>978</td>\n",
       "      <td>21668</td>\n",
       "    </tr>\n",
       "    <tr>\n",
       "      <td>Fevereiro</td>\n",
       "      <td>20903</td>\n",
       "      <td>4382</td>\n",
       "      <td>79290</td>\n",
       "    </tr>\n",
       "    <tr>\n",
       "      <td>Março</td>\n",
       "      <td>34876</td>\n",
       "      <td>6425</td>\n",
       "      <td>106800</td>\n",
       "    </tr>\n",
       "    <tr>\n",
       "      <td>Abril</td>\n",
       "      <td>26272</td>\n",
       "      <td>6770</td>\n",
       "      <td>101674</td>\n",
       "    </tr>\n",
       "    <tr>\n",
       "      <td>Maio</td>\n",
       "      <td>37052</td>\n",
       "      <td>7051</td>\n",
       "      <td>102259</td>\n",
       "    </tr>\n",
       "    <tr>\n",
       "      <td>Junho</td>\n",
       "      <td>20110</td>\n",
       "      <td>3995</td>\n",
       "      <td>79910</td>\n",
       "    </tr>\n",
       "    <tr>\n",
       "      <td>Julho</td>\n",
       "      <td>30825</td>\n",
       "      <td>7419</td>\n",
       "      <td>102811</td>\n",
       "    </tr>\n",
       "    <tr>\n",
       "      <td>Agosto</td>\n",
       "      <td>8481</td>\n",
       "      <td>2043</td>\n",
       "      <td>30475</td>\n",
       "    </tr>\n",
       "    <tr>\n",
       "      <td>Setembro</td>\n",
       "      <td>7976</td>\n",
       "      <td>2855</td>\n",
       "      <td>35540</td>\n",
       "    </tr>\n",
       "    <tr>\n",
       "      <td>Outubro</td>\n",
       "      <td>12046</td>\n",
       "      <td>3561</td>\n",
       "      <td>49595</td>\n",
       "    </tr>\n",
       "    <tr>\n",
       "      <td>Novembro</td>\n",
       "      <td>3841</td>\n",
       "      <td>946</td>\n",
       "      <td>14678</td>\n",
       "    </tr>\n",
       "  </tbody>\n",
       "</table>\n",
       "</div>"
      ],
      "text/plain": [
       "           Positivo  Negativo  Neutro\n",
       "Janeiro        7070       978   21668\n",
       "Fevereiro     20903      4382   79290\n",
       "Março         34876      6425  106800\n",
       "Abril         26272      6770  101674\n",
       "Maio          37052      7051  102259\n",
       "Junho         20110      3995   79910\n",
       "Julho         30825      7419  102811\n",
       "Agosto         8481      2043   30475\n",
       "Setembro       7976      2855   35540\n",
       "Outubro       12046      3561   49595\n",
       "Novembro       3841       946   14678"
      ]
     },
     "execution_count": 16,
     "metadata": {},
     "output_type": "execute_result"
    }
   ],
   "source": [
    "Logistic_Regression = pd.DataFrame([ _quantidadeClasses('Janeiro', 'Logistic_Regression')], index=[\"Janeiro\"], columns=[\"Positivo\", \"Negativo\", \"Neutro\"])\n",
    "Logistic_Regression = pd.concat([Logistic_Regression, pd.DataFrame([ _quantidadeClasses('Fevereiro', 'Logistic_Regression')], index=[\"Fevereiro\"], columns=[\"Positivo\", \"Negativo\", \"Neutro\"])])\n",
    "Logistic_Regression = pd.concat([Logistic_Regression, pd.DataFrame([ _quantidadeClasses('Marco', 'Logistic_Regression')], index=[\"Março\"], columns=[\"Positivo\", \"Negativo\", \"Neutro\"])])\n",
    "Logistic_Regression = pd.concat([Logistic_Regression, pd.DataFrame([ _quantidadeClasses('Abril', 'Logistic_Regression')], index=[\"Abril\"], columns=[\"Positivo\", \"Negativo\", \"Neutro\"])])\n",
    "Logistic_Regression = pd.concat([Logistic_Regression, pd.DataFrame([ _quantidadeClasses('Maio', 'Logistic_Regression')], index=[\"Maio\"], columns=[\"Positivo\", \"Negativo\", \"Neutro\"])])\n",
    "Logistic_Regression = pd.concat([Logistic_Regression, pd.DataFrame([ _quantidadeClasses('Junho', 'Logistic_Regression')], index=[\"Junho\"], columns=[\"Positivo\", \"Negativo\", \"Neutro\"])])\n",
    "Logistic_Regression = pd.concat([Logistic_Regression, pd.DataFrame([ _quantidadeClasses('Julho', 'Logistic_Regression')], index=[\"Julho\"], columns=[\"Positivo\", \"Negativo\", \"Neutro\"])])\n",
    "Logistic_Regression = pd.concat([Logistic_Regression, pd.DataFrame([ _quantidadeClasses('Agosto', 'Logistic_Regression')], index=[\"Agosto\"], columns=[\"Positivo\", \"Negativo\", \"Neutro\"])])\n",
    "Logistic_Regression = pd.concat([Logistic_Regression, pd.DataFrame([ _quantidadeClasses('Setembro', 'Logistic_Regression')], index=[\"Setembro\"], columns=[\"Positivo\", \"Negativo\", \"Neutro\"])])\n",
    "Logistic_Regression = pd.concat([Logistic_Regression, pd.DataFrame([ _quantidadeClasses('Outubro', 'Logistic_Regression')], index=[\"Outubro\"], columns=[\"Positivo\", \"Negativo\", \"Neutro\"])])\n",
    "Logistic_Regression = pd.concat([Logistic_Regression, pd.DataFrame([ _quantidadeClasses('Novembro', 'Logistic_Regression')], index=[\"Novembro\"], columns=[\"Positivo\", \"Negativo\", \"Neutro\"])])\n",
    "Logistic_Regression"
   ]
  },
  {
   "cell_type": "markdown",
   "metadata": {},
   "source": [
    "Gráfico com a quantidade total de cada classe pelo Regressão Logística"
   ]
  },
  {
   "cell_type": "code",
   "execution_count": 17,
   "metadata": {
    "scrolled": true
   },
   "outputs": [
    {
     "data": {
      "image/png": "[encoded data removed]",
      "text/plain": [
       "<Figure size 432x288 with 1 Axes>"
      ]
     },
     "metadata": {},
     "output_type": "display_data"
    }
   ],
   "source": [
    "fig = plt.figure()\n",
    "ax = fig.add_axes([0,0,1,1])\n",
    "classes = ['Positivo', 'Negativo', 'Neutro']\n",
    "algoritmo = [Logistic_Regression[\"Positivo\"].sum(), Logistic_Regression[\"Negativo\"].sum(), Logistic_Regression[\"Neutro\"].sum()]\n",
    "ax.pie(algoritmo, labels=classes, autopct='%1.2f%%')\n",
    "plt.show()"
   ]
  },
  {
   "cell_type": "markdown",
   "metadata": {},
   "source": [
    "Tabela do SVM"
   ]
  },
  {
   "cell_type": "code",
   "execution_count": 18,
   "metadata": {},
   "outputs": [
    {
     "data": {
      "text/html": [
       "<div>\n",
       "<style scoped>\n",
       "    .dataframe tbody tr th:only-of-type {\n",
       "        vertical-align: middle;\n",
       "    }\n",
       "\n",
       "    .dataframe tbody tr th {\n",
       "        vertical-align: top;\n",
       "    }\n",
       "\n",
       "    .dataframe thead th {\n",
       "        text-align: right;\n",
       "    }\n",
       "</style>\n",
       "<table border=\"1\" class=\"dataframe\">\n",
       "  <thead>\n",
       "    <tr style=\"text-align: right;\">\n",
       "      <th></th>\n",
       "      <th>Positivo</th>\n",
       "      <th>Negativo</th>\n",
       "      <th>Neutro</th>\n",
       "    </tr>\n",
       "  </thead>\n",
       "  <tbody>\n",
       "    <tr>\n",
       "      <td>Janeiro</td>\n",
       "      <td>7891</td>\n",
       "      <td>1142</td>\n",
       "      <td>20683</td>\n",
       "    </tr>\n",
       "    <tr>\n",
       "      <td>Fevereiro</td>\n",
       "      <td>22760</td>\n",
       "      <td>5075</td>\n",
       "      <td>76740</td>\n",
       "    </tr>\n",
       "    <tr>\n",
       "      <td>Março</td>\n",
       "      <td>37098</td>\n",
       "      <td>7496</td>\n",
       "      <td>103507</td>\n",
       "    </tr>\n",
       "    <tr>\n",
       "      <td>Abril</td>\n",
       "      <td>28050</td>\n",
       "      <td>7656</td>\n",
       "      <td>99010</td>\n",
       "    </tr>\n",
       "    <tr>\n",
       "      <td>Maio</td>\n",
       "      <td>38984</td>\n",
       "      <td>7973</td>\n",
       "      <td>99405</td>\n",
       "    </tr>\n",
       "    <tr>\n",
       "      <td>Junho</td>\n",
       "      <td>20856</td>\n",
       "      <td>4725</td>\n",
       "      <td>78434</td>\n",
       "    </tr>\n",
       "    <tr>\n",
       "      <td>Julho</td>\n",
       "      <td>32506</td>\n",
       "      <td>8594</td>\n",
       "      <td>99955</td>\n",
       "    </tr>\n",
       "    <tr>\n",
       "      <td>Agosto</td>\n",
       "      <td>9078</td>\n",
       "      <td>2337</td>\n",
       "      <td>29584</td>\n",
       "    </tr>\n",
       "    <tr>\n",
       "      <td>Setembro</td>\n",
       "      <td>8579</td>\n",
       "      <td>3399</td>\n",
       "      <td>34393</td>\n",
       "    </tr>\n",
       "    <tr>\n",
       "      <td>Outubro</td>\n",
       "      <td>12718</td>\n",
       "      <td>3919</td>\n",
       "      <td>48565</td>\n",
       "    </tr>\n",
       "    <tr>\n",
       "      <td>Novembro</td>\n",
       "      <td>4340</td>\n",
       "      <td>1146</td>\n",
       "      <td>13979</td>\n",
       "    </tr>\n",
       "  </tbody>\n",
       "</table>\n",
       "</div>"
      ],
      "text/plain": [
       "           Positivo  Negativo  Neutro\n",
       "Janeiro        7891      1142   20683\n",
       "Fevereiro     22760      5075   76740\n",
       "Março         37098      7496  103507\n",
       "Abril         28050      7656   99010\n",
       "Maio          38984      7973   99405\n",
       "Junho         20856      4725   78434\n",
       "Julho         32506      8594   99955\n",
       "Agosto         9078      2337   29584\n",
       "Setembro       8579      3399   34393\n",
       "Outubro       12718      3919   48565\n",
       "Novembro       4340      1146   13979"
      ]
     },
     "execution_count": 18,
     "metadata": {},
     "output_type": "execute_result"
    }
   ],
   "source": [
    "SVM = pd.DataFrame([ _quantidadeClasses('Janeiro', 'SVM')], index=[\"Janeiro\"], columns=[\"Positivo\", \"Negativo\", \"Neutro\"])\n",
    "SVM = pd.concat([SVM, pd.DataFrame([ _quantidadeClasses('Fevereiro', 'SVM')], index=[\"Fevereiro\"], columns=[\"Positivo\", \"Negativo\", \"Neutro\"])])\n",
    "SVM = pd.concat([SVM, pd.DataFrame([ _quantidadeClasses('Marco', 'SVM')], index=[\"Março\"], columns=[\"Positivo\", \"Negativo\", \"Neutro\"])])\n",
    "SVM = pd.concat([SVM, pd.DataFrame([ _quantidadeClasses('Abril', 'SVM')], index=[\"Abril\"], columns=[\"Positivo\", \"Negativo\", \"Neutro\"])])\n",
    "SVM = pd.concat([SVM, pd.DataFrame([ _quantidadeClasses('Maio', 'SVM')], index=[\"Maio\"], columns=[\"Positivo\", \"Negativo\", \"Neutro\"])])\n",
    "SVM = pd.concat([SVM, pd.DataFrame([ _quantidadeClasses('Junho', 'SVM')], index=[\"Junho\"], columns=[\"Positivo\", \"Negativo\", \"Neutro\"])])\n",
    "SVM = pd.concat([SVM, pd.DataFrame([ _quantidadeClasses('Julho', 'SVM')], index=[\"Julho\"], columns=[\"Positivo\", \"Negativo\", \"Neutro\"])])\n",
    "SVM = pd.concat([SVM, pd.DataFrame([ _quantidadeClasses('Agosto', 'SVM')], index=[\"Agosto\"], columns=[\"Positivo\", \"Negativo\", \"Neutro\"])])\n",
    "SVM = pd.concat([SVM, pd.DataFrame([ _quantidadeClasses('Setembro', 'SVM')], index=[\"Setembro\"], columns=[\"Positivo\", \"Negativo\", \"Neutro\"])])\n",
    "SVM = pd.concat([SVM, pd.DataFrame([ _quantidadeClasses('Outubro', 'SVM')], index=[\"Outubro\"], columns=[\"Positivo\", \"Negativo\", \"Neutro\"])])\n",
    "SVM = pd.concat([SVM, pd.DataFrame([ _quantidadeClasses('Novembro', 'SVM')], index=[\"Novembro\"], columns=[\"Positivo\", \"Negativo\", \"Neutro\"])])\n",
    "SVM"
   ]
  },
  {
   "cell_type": "markdown",
   "metadata": {},
   "source": [
    "Gráfico com a quantidade em cada classe pelo SVM"
   ]
  },
  {
   "cell_type": "code",
   "execution_count": 19,
   "metadata": {},
   "outputs": [
    {
     "data": {
      "image/png": "[encoded data removed]",
      "text/plain": [
       "<Figure size 432x288 with 1 Axes>"
      ]
     },
     "metadata": {},
     "output_type": "display_data"
    }
   ],
   "source": [
    "fig = plt.figure()\n",
    "ax = fig.add_axes([0,0,1,1])\n",
    "classes = ['Positivo', 'Negativo', 'Neutro']\n",
    "algoritmo = [SVM[\"Positivo\"].sum(), SVM[\"Negativo\"].sum(), SVM[\"Neutro\"].sum()]\n",
    "ax.pie(algoritmo, labels=classes, autopct='%1.2f%%')\n",
    "plt.show()"
   ]
  },
  {
   "cell_type": "markdown",
   "metadata": {},
   "source": [
    "Tabela de mês por classe do Florestas Aleatória"
   ]
  },
  {
   "cell_type": "code",
   "execution_count": 20,
   "metadata": {},
   "outputs": [
    {
     "data": {
      "text/html": [
       "<div>\n",
       "<style scoped>\n",
       "    .dataframe tbody tr th:only-of-type {\n",
       "        vertical-align: middle;\n",
       "    }\n",
       "\n",
       "    .dataframe tbody tr th {\n",
       "        vertical-align: top;\n",
       "    }\n",
       "\n",
       "    .dataframe thead th {\n",
       "        text-align: right;\n",
       "    }\n",
       "</style>\n",
       "<table border=\"1\" class=\"dataframe\">\n",
       "  <thead>\n",
       "    <tr style=\"text-align: right;\">\n",
       "      <th></th>\n",
       "      <th>Positivo</th>\n",
       "      <th>Negativo</th>\n",
       "      <th>Neutro</th>\n",
       "    </tr>\n",
       "  </thead>\n",
       "  <tbody>\n",
       "    <tr>\n",
       "      <td>Janeiro</td>\n",
       "      <td>2347</td>\n",
       "      <td>1627</td>\n",
       "      <td>25742</td>\n",
       "    </tr>\n",
       "    <tr>\n",
       "      <td>Fevereiro</td>\n",
       "      <td>6978</td>\n",
       "      <td>6509</td>\n",
       "      <td>91088</td>\n",
       "    </tr>\n",
       "    <tr>\n",
       "      <td>Março</td>\n",
       "      <td>10942</td>\n",
       "      <td>10773</td>\n",
       "      <td>126386</td>\n",
       "    </tr>\n",
       "    <tr>\n",
       "      <td>Abril</td>\n",
       "      <td>8545</td>\n",
       "      <td>9064</td>\n",
       "      <td>117107</td>\n",
       "    </tr>\n",
       "    <tr>\n",
       "      <td>Maio</td>\n",
       "      <td>12254</td>\n",
       "      <td>10422</td>\n",
       "      <td>123686</td>\n",
       "    </tr>\n",
       "    <tr>\n",
       "      <td>Junho</td>\n",
       "      <td>6742</td>\n",
       "      <td>5596</td>\n",
       "      <td>91677</td>\n",
       "    </tr>\n",
       "    <tr>\n",
       "      <td>Julho</td>\n",
       "      <td>10253</td>\n",
       "      <td>11061</td>\n",
       "      <td>119741</td>\n",
       "    </tr>\n",
       "    <tr>\n",
       "      <td>Agosto</td>\n",
       "      <td>2757</td>\n",
       "      <td>3211</td>\n",
       "      <td>35031</td>\n",
       "    </tr>\n",
       "    <tr>\n",
       "      <td>Setembro</td>\n",
       "      <td>2726</td>\n",
       "      <td>3595</td>\n",
       "      <td>40050</td>\n",
       "    </tr>\n",
       "    <tr>\n",
       "      <td>Outubro</td>\n",
       "      <td>4163</td>\n",
       "      <td>5428</td>\n",
       "      <td>55611</td>\n",
       "    </tr>\n",
       "    <tr>\n",
       "      <td>Novembro</td>\n",
       "      <td>1359</td>\n",
       "      <td>1503</td>\n",
       "      <td>16603</td>\n",
       "    </tr>\n",
       "  </tbody>\n",
       "</table>\n",
       "</div>"
      ],
      "text/plain": [
       "           Positivo  Negativo  Neutro\n",
       "Janeiro        2347      1627   25742\n",
       "Fevereiro      6978      6509   91088\n",
       "Março         10942     10773  126386\n",
       "Abril          8545      9064  117107\n",
       "Maio          12254     10422  123686\n",
       "Junho          6742      5596   91677\n",
       "Julho         10253     11061  119741\n",
       "Agosto         2757      3211   35031\n",
       "Setembro       2726      3595   40050\n",
       "Outubro        4163      5428   55611\n",
       "Novembro       1359      1503   16603"
      ]
     },
     "execution_count": 20,
     "metadata": {},
     "output_type": "execute_result"
    }
   ],
   "source": [
    "Random_Forest = pd.DataFrame([ _quantidadeClasses('Janeiro', 'Random_Forest')], index=[\"Janeiro\"], columns=[\"Positivo\", \"Negativo\", \"Neutro\"])\n",
    "Random_Forest = pd.concat([Random_Forest, pd.DataFrame([ _quantidadeClasses('Fevereiro', 'Random_Forest')], index=[\"Fevereiro\"], columns=[\"Positivo\", \"Negativo\", \"Neutro\"])])\n",
    "Random_Forest = pd.concat([Random_Forest, pd.DataFrame([ _quantidadeClasses('Marco', 'Random_Forest')], index=[\"Março\"], columns=[\"Positivo\", \"Negativo\", \"Neutro\"])])\n",
    "Random_Forest = pd.concat([Random_Forest, pd.DataFrame([ _quantidadeClasses('Abril', 'Random_Forest')], index=[\"Abril\"], columns=[\"Positivo\", \"Negativo\", \"Neutro\"])])\n",
    "Random_Forest = pd.concat([Random_Forest, pd.DataFrame([ _quantidadeClasses('Maio', 'Random_Forest')], index=[\"Maio\"], columns=[\"Positivo\", \"Negativo\", \"Neutro\"])])\n",
    "Random_Forest = pd.concat([Random_Forest, pd.DataFrame([ _quantidadeClasses('Junho', 'Random_Forest')], index=[\"Junho\"], columns=[\"Positivo\", \"Negativo\", \"Neutro\"])])\n",
    "Random_Forest = pd.concat([Random_Forest, pd.DataFrame([ _quantidadeClasses('Julho', 'Random_Forest')], index=[\"Julho\"], columns=[\"Positivo\", \"Negativo\", \"Neutro\"])])\n",
    "Random_Forest = pd.concat([Random_Forest, pd.DataFrame([ _quantidadeClasses('Agosto', 'Random_Forest')], index=[\"Agosto\"], columns=[\"Positivo\", \"Negativo\", \"Neutro\"])])\n",
    "Random_Forest = pd.concat([Random_Forest, pd.DataFrame([ _quantidadeClasses('Setembro', 'Random_Forest')], index=[\"Setembro\"], columns=[\"Positivo\", \"Negativo\", \"Neutro\"])])\n",
    "Random_Forest = pd.concat([Random_Forest, pd.DataFrame([ _quantidadeClasses('Outubro', 'Random_Forest')], index=[\"Outubro\"], columns=[\"Positivo\", \"Negativo\", \"Neutro\"])])\n",
    "Random_Forest = pd.concat([Random_Forest, pd.DataFrame([ _quantidadeClasses('Novembro', 'Random_Forest')], index=[\"Novembro\"], columns=[\"Positivo\", \"Negativo\", \"Neutro\"])])\n",
    "Random_Forest"
   ]
  },
  {
   "cell_type": "markdown",
   "metadata": {},
   "source": [
    "Gráfico com a quantidade total de cada classe pelo Floresta Aleatória"
   ]
  },
  {
   "cell_type": "code",
   "execution_count": 21,
   "metadata": {},
   "outputs": [
    {
     "data": {
      "image/png": "[encoded data removed]",
      "text/plain": [
       "<Figure size 432x288 with 1 Axes>"
      ]
     },
     "metadata": {},
     "output_type": "display_data"
    }
   ],
   "source": [
    "fig = plt.figure()\n",
    "ax = fig.add_axes([0,0,1,1])\n",
    "classes = ['Positivo', 'Negativo', 'Neutro']\n",
    "algoritmo = [Random_Forest[\"Positivo\"].sum(), Random_Forest[\"Negativo\"].sum(), Random_Forest[\"Neutro\"].sum()]\n",
    "ax.pie(algoritmo, labels=classes, autopct='%1.2f%%')\n",
    "plt.show()"
   ]
  },
  {
   "cell_type": "markdown",
   "metadata": {},
   "source": [
    "# Gráficos da quantidade de tweets pelo mês para cada classe"
   ]
  },
  {
   "cell_type": "markdown",
   "metadata": {},
   "source": [
    "Naive Bayes"
   ]
  },
  {
   "cell_type": "code",
   "execution_count": 22,
   "metadata": {},
   "outputs": [
    {
     "data": {
      "text/plain": [
       "<matplotlib.legend.Legend at 0x1b30037dec8>"
      ]
     },
     "execution_count": 22,
     "metadata": {},
     "output_type": "execute_result"
    },
    {
     "data": {
      "image/png": "[encoded data removed]",
      "text/plain": [
       "<Figure size 1440x720 with 1 Axes>"
      ]
     },
     "metadata": {
      "needs_background": "light"
     },
     "output_type": "display_data"
    }
   ],
   "source": [
    "ax = MultinomialNB.plot.bar(rot=0, figsize=(20, 10), fontsize=25)\n",
    "plt.xticks(rotation=30)\n",
    "ax.legend(bbox_to_anchor=(1,1), loc=0, fontsize=15)"
   ]
  },
  {
   "cell_type": "markdown",
   "metadata": {},
   "source": [
    "Regressão Logística"
   ]
  },
  {
   "cell_type": "code",
   "execution_count": 23,
   "metadata": {},
   "outputs": [
    {
     "data": {
      "text/plain": [
       "<matplotlib.legend.Legend at 0x1b3004182c8>"
      ]
     },
     "execution_count": 23,
     "metadata": {},
     "output_type": "execute_result"
    },
    {
     "data": {
      "image/png": "[encoded data removed]",
      "text/plain": [
       "<Figure size 1440x720 with 1 Axes>"
      ]
     },
     "metadata": {
      "needs_background": "light"
     },
     "output_type": "display_data"
    }
   ],
   "source": [
    "ax = Logistic_Regression.plot.bar(rot=0, figsize=(20, 10), fontsize=25)\n",
    "plt.xticks(rotation=30)\n",
    "ax.legend(bbox_to_anchor=(1,1), loc=0, fontsize=15)"
   ]
  },
  {
   "cell_type": "markdown",
   "metadata": {},
   "source": [
    "SVM"
   ]
  },
  {
   "cell_type": "code",
   "execution_count": 24,
   "metadata": {},
   "outputs": [
    {
     "data": {
      "text/plain": [
       "<matplotlib.legend.Legend at 0x1b300506388>"
      ]
     },
     "execution_count": 24,
     "metadata": {},
     "output_type": "execute_result"
    },
    {
     "data": {
      "image/png": "[encoded data removed]",
      "text/plain": [
       "<Figure size 1440x720 with 1 Axes>"
      ]
     },
     "metadata": {
      "needs_background": "light"
     },
     "output_type": "display_data"
    }
   ],
   "source": [
    "ax = SVM.plot.bar(rot=0, figsize=(20, 10), fontsize=25)\n",
    "plt.xticks(rotation=30)\n",
    "ax.legend(bbox_to_anchor=(1,1), loc=0, fontsize=15)"
   ]
  },
  {
   "cell_type": "markdown",
   "metadata": {},
   "source": [
    "Random Forest"
   ]
  },
  {
   "cell_type": "code",
   "execution_count": 25,
   "metadata": {},
   "outputs": [
    {
     "data": {
      "text/plain": [
       "<matplotlib.legend.Legend at 0x1b3005aa648>"
      ]
     },
     "execution_count": 25,
     "metadata": {},
     "output_type": "execute_result"
    },
    {
     "data": {
      "image/png": "[encoded data removed]",
      "text/plain": [
       "<Figure size 1440x720 with 1 Axes>"
      ]
     },
     "metadata": {
      "needs_background": "light"
     },
     "output_type": "display_data"
    }
   ],
   "source": [
    "ax = Random_Forest.plot.bar(rot=0, figsize=(20, 10), fontsize=25)\n",
    "plt.xticks(rotation=30)\n",
    "ax.legend(bbox_to_anchor=(1,1), loc=0, fontsize=15)"
   ]
  },
  {
   "cell_type": "markdown",
   "metadata": {},
   "source": [
    "# Comparação entre as classificações de cada algoritimo "
   ]
  },
  {
   "cell_type": "code",
   "execution_count": 26,
   "metadata": {},
   "outputs": [],
   "source": [
    "MNB_LR = pd.DataFrame( index=[\"Positivo\", \"Negativo\", \"Neutro\", \"Total\"], columns=[\"Positivo\", \"Negativo\", \"Neutro\", \"Total\"])"
   ]
  },
  {
   "cell_type": "code",
   "execution_count": 27,
   "metadata": {},
   "outputs": [
    {
     "data": {
      "text/html": [
       "<div>\n",
       "<style scoped>\n",
       "    .dataframe tbody tr th:only-of-type {\n",
       "        vertical-align: middle;\n",
       "    }\n",
       "\n",
       "    .dataframe tbody tr th {\n",
       "        vertical-align: top;\n",
       "    }\n",
       "\n",
       "    .dataframe thead th {\n",
       "        text-align: right;\n",
       "    }\n",
       "</style>\n",
       "<table border=\"1\" class=\"dataframe\">\n",
       "  <thead>\n",
       "    <tr style=\"text-align: right;\">\n",
       "      <th></th>\n",
       "      <th>Positivo</th>\n",
       "      <th>Negativo</th>\n",
       "      <th>Neutro</th>\n",
       "      <th>Total</th>\n",
       "    </tr>\n",
       "  </thead>\n",
       "  <tbody>\n",
       "    <tr>\n",
       "      <td>Positivo</td>\n",
       "      <td>NaN</td>\n",
       "      <td>NaN</td>\n",
       "      <td>NaN</td>\n",
       "      <td>NaN</td>\n",
       "    </tr>\n",
       "    <tr>\n",
       "      <td>Negativo</td>\n",
       "      <td>NaN</td>\n",
       "      <td>NaN</td>\n",
       "      <td>NaN</td>\n",
       "      <td>NaN</td>\n",
       "    </tr>\n",
       "    <tr>\n",
       "      <td>Neutro</td>\n",
       "      <td>NaN</td>\n",
       "      <td>NaN</td>\n",
       "      <td>NaN</td>\n",
       "      <td>NaN</td>\n",
       "    </tr>\n",
       "    <tr>\n",
       "      <td>Total</td>\n",
       "      <td>NaN</td>\n",
       "      <td>NaN</td>\n",
       "      <td>NaN</td>\n",
       "      <td>NaN</td>\n",
       "    </tr>\n",
       "  </tbody>\n",
       "</table>\n",
       "</div>"
      ],
      "text/plain": [
       "         Positivo Negativo Neutro Total\n",
       "Positivo      NaN      NaN    NaN   NaN\n",
       "Negativo      NaN      NaN    NaN   NaN\n",
       "Neutro        NaN      NaN    NaN   NaN\n",
       "Total         NaN      NaN    NaN   NaN"
      ]
     },
     "execution_count": 27,
     "metadata": {},
     "output_type": "execute_result"
    }
   ],
   "source": [
    "MNB_LR"
   ]
  },
  {
   "cell_type": "code",
   "execution_count": 28,
   "metadata": {},
   "outputs": [
    {
     "data": {
      "text/plain": [
       "Neutro      346160\n",
       "Positivo    160291\n",
       "Negativo     42554\n",
       "Name: Naive_Bayes, dtype: int64"
      ]
     },
     "execution_count": 28,
     "metadata": {},
     "output_type": "execute_result"
    }
   ],
   "source": [
    "resultado_classificacao.query('Naive_Bayes == Logistic_Regression')['Naive_Bayes'].value_counts()"
   ]
  },
  {
   "cell_type": "code",
   "execution_count": 29,
   "metadata": {},
   "outputs": [],
   "source": [
    "neutros, positivos, negativos = resultado_classificacao.query('Naive_Bayes == Logistic_Regression')['Naive_Bayes'].value_counts()"
   ]
  },
  {
   "cell_type": "code",
   "execution_count": 30,
   "metadata": {},
   "outputs": [],
   "source": [
    "MNB_LR.loc[\"Positivo\"][\"Positivo\"] = positivos\n",
    "MNB_LR.loc[\"Negativo\"][\"Negativo\"] = negativos\n",
    "MNB_LR.loc[\"Neutro\"][\"Neutro\"] = neutros"
   ]
  },
  {
   "cell_type": "code",
   "execution_count": 31,
   "metadata": {},
   "outputs": [
    {
     "data": {
      "text/html": [
       "<div>\n",
       "<style scoped>\n",
       "    .dataframe tbody tr th:only-of-type {\n",
       "        vertical-align: middle;\n",
       "    }\n",
       "\n",
       "    .dataframe tbody tr th {\n",
       "        vertical-align: top;\n",
       "    }\n",
       "\n",
       "    .dataframe thead th {\n",
       "        text-align: right;\n",
       "    }\n",
       "</style>\n",
       "<table border=\"1\" class=\"dataframe\">\n",
       "  <thead>\n",
       "    <tr style=\"text-align: right;\">\n",
       "      <th></th>\n",
       "      <th>Positivo</th>\n",
       "      <th>Negativo</th>\n",
       "      <th>Neutro</th>\n",
       "      <th>Total</th>\n",
       "    </tr>\n",
       "  </thead>\n",
       "  <tbody>\n",
       "    <tr>\n",
       "      <td>Positivo</td>\n",
       "      <td>160291</td>\n",
       "      <td>NaN</td>\n",
       "      <td>NaN</td>\n",
       "      <td>NaN</td>\n",
       "    </tr>\n",
       "    <tr>\n",
       "      <td>Negativo</td>\n",
       "      <td>NaN</td>\n",
       "      <td>42554</td>\n",
       "      <td>NaN</td>\n",
       "      <td>NaN</td>\n",
       "    </tr>\n",
       "    <tr>\n",
       "      <td>Neutro</td>\n",
       "      <td>NaN</td>\n",
       "      <td>NaN</td>\n",
       "      <td>346160</td>\n",
       "      <td>NaN</td>\n",
       "    </tr>\n",
       "    <tr>\n",
       "      <td>Total</td>\n",
       "      <td>NaN</td>\n",
       "      <td>NaN</td>\n",
       "      <td>NaN</td>\n",
       "      <td>NaN</td>\n",
       "    </tr>\n",
       "  </tbody>\n",
       "</table>\n",
       "</div>"
      ],
      "text/plain": [
       "         Positivo Negativo  Neutro Total\n",
       "Positivo   160291      NaN     NaN   NaN\n",
       "Negativo      NaN    42554     NaN   NaN\n",
       "Neutro        NaN      NaN  346160   NaN\n",
       "Total         NaN      NaN     NaN   NaN"
      ]
     },
     "execution_count": 31,
     "metadata": {},
     "output_type": "execute_result"
    }
   ],
   "source": [
    "MNB_LR"
   ]
  },
  {
   "cell_type": "code",
   "execution_count": 32,
   "metadata": {},
   "outputs": [
    {
     "data": {
      "text/plain": [
       "Positivo    249564\n",
       "Negativo    169833\n",
       "Neutro       12175\n",
       "Name: Naive_Bayes, dtype: int64"
      ]
     },
     "execution_count": 32,
     "metadata": {},
     "output_type": "execute_result"
    }
   ],
   "source": [
    "resultado_classificacao.query('Naive_Bayes != Logistic_Regression')['Naive_Bayes'].value_counts()"
   ]
  },
  {
   "cell_type": "code",
   "execution_count": 33,
   "metadata": {},
   "outputs": [
    {
     "data": {
      "text/plain": [
       "Neutro      378540\n",
       "Positivo     49161\n",
       "Negativo      3871\n",
       "Name: Logistic_Regression, dtype: int64"
      ]
     },
     "execution_count": 33,
     "metadata": {},
     "output_type": "execute_result"
    }
   ],
   "source": [
    "resultado_classificacao.query('Naive_Bayes != Logistic_Regression')['Logistic_Regression'].value_counts()"
   ]
  },
  {
   "cell_type": "code",
   "execution_count": null,
   "metadata": {},
   "outputs": [],
   "source": []
  },
  {
   "cell_type": "code",
   "execution_count": 34,
   "metadata": {},
   "outputs": [
    {
     "data": {
      "text/plain": [
       "Negativo    38175\n",
       "Name: Naive_Bayes, dtype: int64"
      ]
     },
     "execution_count": 34,
     "metadata": {},
     "output_type": "execute_result"
    }
   ],
   "source": [
    "resultado_classificacao.query('Naive_Bayes == \"Negativo\" and Logistic_Regression == \"Positivo\"')['Naive_Bayes'].value_counts()"
   ]
  },
  {
   "cell_type": "code",
   "execution_count": 35,
   "metadata": {},
   "outputs": [
    {
     "data": {
      "text/html": [
       "<div>\n",
       "<style scoped>\n",
       "    .dataframe tbody tr th:only-of-type {\n",
       "        vertical-align: middle;\n",
       "    }\n",
       "\n",
       "    .dataframe tbody tr th {\n",
       "        vertical-align: top;\n",
       "    }\n",
       "\n",
       "    .dataframe thead th {\n",
       "        text-align: right;\n",
       "    }\n",
       "</style>\n",
       "<table border=\"1\" class=\"dataframe\">\n",
       "  <thead>\n",
       "    <tr style=\"text-align: right;\">\n",
       "      <th></th>\n",
       "      <th>Positivo</th>\n",
       "      <th>Negativo</th>\n",
       "      <th>Neutro</th>\n",
       "      <th>Total</th>\n",
       "    </tr>\n",
       "  </thead>\n",
       "  <tbody>\n",
       "    <tr>\n",
       "      <td>Positivo</td>\n",
       "      <td>160291</td>\n",
       "      <td>NaN</td>\n",
       "      <td>NaN</td>\n",
       "      <td>NaN</td>\n",
       "    </tr>\n",
       "    <tr>\n",
       "      <td>Negativo</td>\n",
       "      <td>38175</td>\n",
       "      <td>42554</td>\n",
       "      <td>NaN</td>\n",
       "      <td>NaN</td>\n",
       "    </tr>\n",
       "    <tr>\n",
       "      <td>Neutro</td>\n",
       "      <td>NaN</td>\n",
       "      <td>NaN</td>\n",
       "      <td>346160</td>\n",
       "      <td>NaN</td>\n",
       "    </tr>\n",
       "    <tr>\n",
       "      <td>Total</td>\n",
       "      <td>NaN</td>\n",
       "      <td>NaN</td>\n",
       "      <td>NaN</td>\n",
       "      <td>NaN</td>\n",
       "    </tr>\n",
       "  </tbody>\n",
       "</table>\n",
       "</div>"
      ],
      "text/plain": [
       "         Positivo Negativo  Neutro Total\n",
       "Positivo   160291      NaN     NaN   NaN\n",
       "Negativo    38175    42554     NaN   NaN\n",
       "Neutro        NaN      NaN  346160   NaN\n",
       "Total         NaN      NaN     NaN   NaN"
      ]
     },
     "execution_count": 35,
     "metadata": {},
     "output_type": "execute_result"
    }
   ],
   "source": [
    "MNB_LR.loc[\"Negativo\"][\"Positivo\"] = resultado_classificacao.query('Naive_Bayes == \"Negativo\" and Logistic_Regression == \"Positivo\"')['Naive_Bayes'].value_counts()[0]\n",
    "MNB_LR"
   ]
  },
  {
   "cell_type": "code",
   "execution_count": null,
   "metadata": {},
   "outputs": [],
   "source": []
  },
  {
   "cell_type": "code",
   "execution_count": 36,
   "metadata": {},
   "outputs": [
    {
     "data": {
      "text/html": [
       "<div>\n",
       "<style scoped>\n",
       "    .dataframe tbody tr th:only-of-type {\n",
       "        vertical-align: middle;\n",
       "    }\n",
       "\n",
       "    .dataframe tbody tr th {\n",
       "        vertical-align: top;\n",
       "    }\n",
       "\n",
       "    .dataframe thead th {\n",
       "        text-align: right;\n",
       "    }\n",
       "</style>\n",
       "<table border=\"1\" class=\"dataframe\">\n",
       "  <thead>\n",
       "    <tr style=\"text-align: right;\">\n",
       "      <th></th>\n",
       "      <th>Positivo</th>\n",
       "      <th>Negativo</th>\n",
       "      <th>Neutro</th>\n",
       "      <th>Total</th>\n",
       "    </tr>\n",
       "  </thead>\n",
       "  <tbody>\n",
       "    <tr>\n",
       "      <td>Positivo</td>\n",
       "      <td>160291</td>\n",
       "      <td>NaN</td>\n",
       "      <td>NaN</td>\n",
       "      <td>NaN</td>\n",
       "    </tr>\n",
       "    <tr>\n",
       "      <td>Negativo</td>\n",
       "      <td>38175</td>\n",
       "      <td>42554</td>\n",
       "      <td>NaN</td>\n",
       "      <td>NaN</td>\n",
       "    </tr>\n",
       "    <tr>\n",
       "      <td>Neutro</td>\n",
       "      <td>10986</td>\n",
       "      <td>NaN</td>\n",
       "      <td>346160</td>\n",
       "      <td>NaN</td>\n",
       "    </tr>\n",
       "    <tr>\n",
       "      <td>Total</td>\n",
       "      <td>NaN</td>\n",
       "      <td>NaN</td>\n",
       "      <td>NaN</td>\n",
       "      <td>NaN</td>\n",
       "    </tr>\n",
       "  </tbody>\n",
       "</table>\n",
       "</div>"
      ],
      "text/plain": [
       "         Positivo Negativo  Neutro Total\n",
       "Positivo   160291      NaN     NaN   NaN\n",
       "Negativo    38175    42554     NaN   NaN\n",
       "Neutro      10986      NaN  346160   NaN\n",
       "Total         NaN      NaN     NaN   NaN"
      ]
     },
     "execution_count": 36,
     "metadata": {},
     "output_type": "execute_result"
    }
   ],
   "source": [
    "MNB_LR.loc[\"Neutro\"][\"Positivo\"] = resultado_classificacao.query('Naive_Bayes == \"Neutro\" and Logistic_Regression == \"Positivo\"')['Naive_Bayes'].value_counts()[0]\n",
    "MNB_LR"
   ]
  },
  {
   "cell_type": "code",
   "execution_count": null,
   "metadata": {},
   "outputs": [],
   "source": []
  },
  {
   "cell_type": "code",
   "execution_count": 37,
   "metadata": {},
   "outputs": [
    {
     "data": {
      "text/html": [
       "<div>\n",
       "<style scoped>\n",
       "    .dataframe tbody tr th:only-of-type {\n",
       "        vertical-align: middle;\n",
       "    }\n",
       "\n",
       "    .dataframe tbody tr th {\n",
       "        vertical-align: top;\n",
       "    }\n",
       "\n",
       "    .dataframe thead th {\n",
       "        text-align: right;\n",
       "    }\n",
       "</style>\n",
       "<table border=\"1\" class=\"dataframe\">\n",
       "  <thead>\n",
       "    <tr style=\"text-align: right;\">\n",
       "      <th></th>\n",
       "      <th>Positivo</th>\n",
       "      <th>Negativo</th>\n",
       "      <th>Neutro</th>\n",
       "      <th>Total</th>\n",
       "    </tr>\n",
       "  </thead>\n",
       "  <tbody>\n",
       "    <tr>\n",
       "      <td>Positivo</td>\n",
       "      <td>160291</td>\n",
       "      <td>2682</td>\n",
       "      <td>NaN</td>\n",
       "      <td>NaN</td>\n",
       "    </tr>\n",
       "    <tr>\n",
       "      <td>Negativo</td>\n",
       "      <td>38175</td>\n",
       "      <td>42554</td>\n",
       "      <td>NaN</td>\n",
       "      <td>NaN</td>\n",
       "    </tr>\n",
       "    <tr>\n",
       "      <td>Neutro</td>\n",
       "      <td>10986</td>\n",
       "      <td>NaN</td>\n",
       "      <td>346160</td>\n",
       "      <td>NaN</td>\n",
       "    </tr>\n",
       "    <tr>\n",
       "      <td>Total</td>\n",
       "      <td>NaN</td>\n",
       "      <td>NaN</td>\n",
       "      <td>NaN</td>\n",
       "      <td>NaN</td>\n",
       "    </tr>\n",
       "  </tbody>\n",
       "</table>\n",
       "</div>"
      ],
      "text/plain": [
       "         Positivo Negativo  Neutro Total\n",
       "Positivo   160291     2682     NaN   NaN\n",
       "Negativo    38175    42554     NaN   NaN\n",
       "Neutro      10986      NaN  346160   NaN\n",
       "Total         NaN      NaN     NaN   NaN"
      ]
     },
     "execution_count": 37,
     "metadata": {},
     "output_type": "execute_result"
    }
   ],
   "source": [
    "MNB_LR.loc[\"Positivo\"][\"Negativo\"] = resultado_classificacao.query('Naive_Bayes == \"Positivo\" and Logistic_Regression == \"Negativo\"')['Naive_Bayes'].value_counts()[0]\n",
    "MNB_LR"
   ]
  },
  {
   "cell_type": "code",
   "execution_count": 38,
   "metadata": {},
   "outputs": [
    {
     "data": {
      "text/html": [
       "<div>\n",
       "<style scoped>\n",
       "    .dataframe tbody tr th:only-of-type {\n",
       "        vertical-align: middle;\n",
       "    }\n",
       "\n",
       "    .dataframe tbody tr th {\n",
       "        vertical-align: top;\n",
       "    }\n",
       "\n",
       "    .dataframe thead th {\n",
       "        text-align: right;\n",
       "    }\n",
       "</style>\n",
       "<table border=\"1\" class=\"dataframe\">\n",
       "  <thead>\n",
       "    <tr style=\"text-align: right;\">\n",
       "      <th></th>\n",
       "      <th>Positivo</th>\n",
       "      <th>Negativo</th>\n",
       "      <th>Neutro</th>\n",
       "      <th>Total</th>\n",
       "    </tr>\n",
       "  </thead>\n",
       "  <tbody>\n",
       "    <tr>\n",
       "      <td>Positivo</td>\n",
       "      <td>160291</td>\n",
       "      <td>2682</td>\n",
       "      <td>NaN</td>\n",
       "      <td>NaN</td>\n",
       "    </tr>\n",
       "    <tr>\n",
       "      <td>Negativo</td>\n",
       "      <td>38175</td>\n",
       "      <td>42554</td>\n",
       "      <td>NaN</td>\n",
       "      <td>NaN</td>\n",
       "    </tr>\n",
       "    <tr>\n",
       "      <td>Neutro</td>\n",
       "      <td>10986</td>\n",
       "      <td>1189</td>\n",
       "      <td>346160</td>\n",
       "      <td>NaN</td>\n",
       "    </tr>\n",
       "    <tr>\n",
       "      <td>Total</td>\n",
       "      <td>NaN</td>\n",
       "      <td>NaN</td>\n",
       "      <td>NaN</td>\n",
       "      <td>NaN</td>\n",
       "    </tr>\n",
       "  </tbody>\n",
       "</table>\n",
       "</div>"
      ],
      "text/plain": [
       "         Positivo Negativo  Neutro Total\n",
       "Positivo   160291     2682     NaN   NaN\n",
       "Negativo    38175    42554     NaN   NaN\n",
       "Neutro      10986     1189  346160   NaN\n",
       "Total         NaN      NaN     NaN   NaN"
      ]
     },
     "execution_count": 38,
     "metadata": {},
     "output_type": "execute_result"
    }
   ],
   "source": [
    "MNB_LR.loc[\"Neutro\"][\"Negativo\"] = resultado_classificacao.query('Naive_Bayes == \"Neutro\" and Logistic_Regression == \"Negativo\"')['Naive_Bayes'].value_counts()[0]\n",
    "MNB_LR"
   ]
  },
  {
   "cell_type": "code",
   "execution_count": null,
   "metadata": {},
   "outputs": [],
   "source": []
  },
  {
   "cell_type": "code",
   "execution_count": 39,
   "metadata": {},
   "outputs": [
    {
     "data": {
      "text/html": [
       "<div>\n",
       "<style scoped>\n",
       "    .dataframe tbody tr th:only-of-type {\n",
       "        vertical-align: middle;\n",
       "    }\n",
       "\n",
       "    .dataframe tbody tr th {\n",
       "        vertical-align: top;\n",
       "    }\n",
       "\n",
       "    .dataframe thead th {\n",
       "        text-align: right;\n",
       "    }\n",
       "</style>\n",
       "<table border=\"1\" class=\"dataframe\">\n",
       "  <thead>\n",
       "    <tr style=\"text-align: right;\">\n",
       "      <th></th>\n",
       "      <th>Positivo</th>\n",
       "      <th>Negativo</th>\n",
       "      <th>Neutro</th>\n",
       "      <th>Total</th>\n",
       "    </tr>\n",
       "  </thead>\n",
       "  <tbody>\n",
       "    <tr>\n",
       "      <td>Positivo</td>\n",
       "      <td>160291</td>\n",
       "      <td>2682</td>\n",
       "      <td>246882</td>\n",
       "      <td>NaN</td>\n",
       "    </tr>\n",
       "    <tr>\n",
       "      <td>Negativo</td>\n",
       "      <td>38175</td>\n",
       "      <td>42554</td>\n",
       "      <td>NaN</td>\n",
       "      <td>NaN</td>\n",
       "    </tr>\n",
       "    <tr>\n",
       "      <td>Neutro</td>\n",
       "      <td>10986</td>\n",
       "      <td>1189</td>\n",
       "      <td>346160</td>\n",
       "      <td>NaN</td>\n",
       "    </tr>\n",
       "    <tr>\n",
       "      <td>Total</td>\n",
       "      <td>NaN</td>\n",
       "      <td>NaN</td>\n",
       "      <td>NaN</td>\n",
       "      <td>NaN</td>\n",
       "    </tr>\n",
       "  </tbody>\n",
       "</table>\n",
       "</div>"
      ],
      "text/plain": [
       "         Positivo Negativo  Neutro Total\n",
       "Positivo   160291     2682  246882   NaN\n",
       "Negativo    38175    42554     NaN   NaN\n",
       "Neutro      10986     1189  346160   NaN\n",
       "Total         NaN      NaN     NaN   NaN"
      ]
     },
     "execution_count": 39,
     "metadata": {},
     "output_type": "execute_result"
    }
   ],
   "source": [
    "MNB_LR.loc[\"Positivo\"][\"Neutro\"] = resultado_classificacao.query('Naive_Bayes == \"Positivo\" and Logistic_Regression == \"Neutro\"')['Naive_Bayes'].value_counts()[0]\n",
    "MNB_LR"
   ]
  },
  {
   "cell_type": "code",
   "execution_count": null,
   "metadata": {},
   "outputs": [],
   "source": []
  },
  {
   "cell_type": "code",
   "execution_count": 40,
   "metadata": {},
   "outputs": [
    {
     "data": {
      "text/html": [
       "<div>\n",
       "<style scoped>\n",
       "    .dataframe tbody tr th:only-of-type {\n",
       "        vertical-align: middle;\n",
       "    }\n",
       "\n",
       "    .dataframe tbody tr th {\n",
       "        vertical-align: top;\n",
       "    }\n",
       "\n",
       "    .dataframe thead th {\n",
       "        text-align: right;\n",
       "    }\n",
       "</style>\n",
       "<table border=\"1\" class=\"dataframe\">\n",
       "  <thead>\n",
       "    <tr style=\"text-align: right;\">\n",
       "      <th></th>\n",
       "      <th>Positivo</th>\n",
       "      <th>Negativo</th>\n",
       "      <th>Neutro</th>\n",
       "      <th>Total</th>\n",
       "    </tr>\n",
       "  </thead>\n",
       "  <tbody>\n",
       "    <tr>\n",
       "      <td>Positivo</td>\n",
       "      <td>160291</td>\n",
       "      <td>2682</td>\n",
       "      <td>246882</td>\n",
       "      <td>NaN</td>\n",
       "    </tr>\n",
       "    <tr>\n",
       "      <td>Negativo</td>\n",
       "      <td>38175</td>\n",
       "      <td>42554</td>\n",
       "      <td>131658</td>\n",
       "      <td>NaN</td>\n",
       "    </tr>\n",
       "    <tr>\n",
       "      <td>Neutro</td>\n",
       "      <td>10986</td>\n",
       "      <td>1189</td>\n",
       "      <td>346160</td>\n",
       "      <td>NaN</td>\n",
       "    </tr>\n",
       "    <tr>\n",
       "      <td>Total</td>\n",
       "      <td>NaN</td>\n",
       "      <td>NaN</td>\n",
       "      <td>NaN</td>\n",
       "      <td>NaN</td>\n",
       "    </tr>\n",
       "  </tbody>\n",
       "</table>\n",
       "</div>"
      ],
      "text/plain": [
       "         Positivo Negativo  Neutro Total\n",
       "Positivo   160291     2682  246882   NaN\n",
       "Negativo    38175    42554  131658   NaN\n",
       "Neutro      10986     1189  346160   NaN\n",
       "Total         NaN      NaN     NaN   NaN"
      ]
     },
     "execution_count": 40,
     "metadata": {},
     "output_type": "execute_result"
    }
   ],
   "source": [
    "MNB_LR.loc[\"Negativo\"][\"Neutro\"] = resultado_classificacao.query('Naive_Bayes == \"Negativo\" and Logistic_Regression == \"Neutro\"')['Naive_Bayes'].value_counts()[0]\n",
    "MNB_LR"
   ]
  },
  {
   "cell_type": "code",
   "execution_count": null,
   "metadata": {},
   "outputs": [],
   "source": []
  },
  {
   "cell_type": "code",
   "execution_count": 41,
   "metadata": {},
   "outputs": [],
   "source": [
    "MNB_LR.loc[\"Positivo\"][\"Total\"] = MNB_LR.loc[\"Positivo\"].sum()\n",
    "MNB_LR.loc[\"Negativo\"][\"Total\"] = MNB_LR.loc[\"Negativo\"].sum()\n",
    "MNB_LR.loc[\"Neutro\"][\"Total\"] = MNB_LR.loc[\"Neutro\"].sum()\n",
    "\n",
    "MNB_LR.loc[\"Total\"][\"Positivo\"] = MNB_LR[\"Positivo\"].sum()\n",
    "MNB_LR.loc[\"Total\"][\"Negativo\"] = MNB_LR[\"Negativo\"].sum()\n",
    "MNB_LR.loc[\"Total\"][\"Neutro\"] = MNB_LR[\"Neutro\"].sum()\n",
    "\n",
    "MNB_LR.loc[\"Total\"][\"Total\"] = MNB_LR[\"Total\"].sum()"
   ]
  },
  {
   "cell_type": "markdown",
   "metadata": {},
   "source": [
    "# Naive Bayes x Regressão Logística"
   ]
  },
  {
   "cell_type": "code",
   "execution_count": 42,
   "metadata": {},
   "outputs": [
    {
     "data": {
      "text/html": [
       "<style  type=\"text/css\" >\n",
       "    #T_4509d8dc_1aee_11eb_bf1d_8cec4b2453f0 th {\n",
       "          font-size: 150%;\n",
       "          text-align: center;\n",
       "          background: #606060;\n",
       "          color: white;\n",
       "    }    #T_4509d8dc_1aee_11eb_bf1d_8cec4b2453f0 td {\n",
       "          font-size: 150%;\n",
       "          text-align: center;\n",
       "    }</style><table id=\"T_4509d8dc_1aee_11eb_bf1d_8cec4b2453f0\" ><thead>    <tr>        <th class=\"blank level0\" ></th>        <th class=\"col_heading level0 col0\" >Positivo</th>        <th class=\"col_heading level0 col1\" >Negativo</th>        <th class=\"col_heading level0 col2\" >Neutro</th>        <th class=\"col_heading level0 col3\" >Total</th>    </tr></thead><tbody>\n",
       "                <tr>\n",
       "                        <th id=\"T_4509d8dc_1aee_11eb_bf1d_8cec4b2453f0level0_row0\" class=\"row_heading level0 row0\" >Positivo</th>\n",
       "                        <td id=\"T_4509d8dc_1aee_11eb_bf1d_8cec4b2453f0row0_col0\" class=\"data row0 col0\" >160291</td>\n",
       "                        <td id=\"T_4509d8dc_1aee_11eb_bf1d_8cec4b2453f0row0_col1\" class=\"data row0 col1\" >2682</td>\n",
       "                        <td id=\"T_4509d8dc_1aee_11eb_bf1d_8cec4b2453f0row0_col2\" class=\"data row0 col2\" >246882</td>\n",
       "                        <td id=\"T_4509d8dc_1aee_11eb_bf1d_8cec4b2453f0row0_col3\" class=\"data row0 col3\" >409855</td>\n",
       "            </tr>\n",
       "            <tr>\n",
       "                        <th id=\"T_4509d8dc_1aee_11eb_bf1d_8cec4b2453f0level0_row1\" class=\"row_heading level0 row1\" >Negativo</th>\n",
       "                        <td id=\"T_4509d8dc_1aee_11eb_bf1d_8cec4b2453f0row1_col0\" class=\"data row1 col0\" >38175</td>\n",
       "                        <td id=\"T_4509d8dc_1aee_11eb_bf1d_8cec4b2453f0row1_col1\" class=\"data row1 col1\" >42554</td>\n",
       "                        <td id=\"T_4509d8dc_1aee_11eb_bf1d_8cec4b2453f0row1_col2\" class=\"data row1 col2\" >131658</td>\n",
       "                        <td id=\"T_4509d8dc_1aee_11eb_bf1d_8cec4b2453f0row1_col3\" class=\"data row1 col3\" >212387</td>\n",
       "            </tr>\n",
       "            <tr>\n",
       "                        <th id=\"T_4509d8dc_1aee_11eb_bf1d_8cec4b2453f0level0_row2\" class=\"row_heading level0 row2\" >Neutro</th>\n",
       "                        <td id=\"T_4509d8dc_1aee_11eb_bf1d_8cec4b2453f0row2_col0\" class=\"data row2 col0\" >10986</td>\n",
       "                        <td id=\"T_4509d8dc_1aee_11eb_bf1d_8cec4b2453f0row2_col1\" class=\"data row2 col1\" >1189</td>\n",
       "                        <td id=\"T_4509d8dc_1aee_11eb_bf1d_8cec4b2453f0row2_col2\" class=\"data row2 col2\" >346160</td>\n",
       "                        <td id=\"T_4509d8dc_1aee_11eb_bf1d_8cec4b2453f0row2_col3\" class=\"data row2 col3\" >358335</td>\n",
       "            </tr>\n",
       "            <tr>\n",
       "                        <th id=\"T_4509d8dc_1aee_11eb_bf1d_8cec4b2453f0level0_row3\" class=\"row_heading level0 row3\" >Total</th>\n",
       "                        <td id=\"T_4509d8dc_1aee_11eb_bf1d_8cec4b2453f0row3_col0\" class=\"data row3 col0\" >209452</td>\n",
       "                        <td id=\"T_4509d8dc_1aee_11eb_bf1d_8cec4b2453f0row3_col1\" class=\"data row3 col1\" >46425</td>\n",
       "                        <td id=\"T_4509d8dc_1aee_11eb_bf1d_8cec4b2453f0row3_col2\" class=\"data row3 col2\" >724700</td>\n",
       "                        <td id=\"T_4509d8dc_1aee_11eb_bf1d_8cec4b2453f0row3_col3\" class=\"data row3 col3\" >980577</td>\n",
       "            </tr>\n",
       "    </tbody></table>"
      ],
      "text/plain": [
       "<pandas.io.formats.style.Styler at 0x1b3007094c8>"
      ]
     },
     "execution_count": 42,
     "metadata": {},
     "output_type": "execute_result"
    }
   ],
   "source": [
    "MNB_LR.style.set_table_styles([\n",
    "    {'selector' : 'th', 'props' : [(\"font-size\", \"150%\"), (\"text-align\", \"center\"),\n",
    "                                  ('background', '#606060'), ('color', 'white'),]},\n",
    "    {'selector' : 'td', 'props' : [(\"font-size\", \"150%\"), (\"text-align\", \"center\")]},\n",
    "])"
   ]
  },
  {
   "cell_type": "code",
   "execution_count": null,
   "metadata": {},
   "outputs": [],
   "source": []
  },
  {
   "cell_type": "code",
   "execution_count": 43,
   "metadata": {},
   "outputs": [],
   "source": [
    "MNB_SVM = pd.DataFrame( index=[\"Positivo\", \"Negativo\", \"Neutro\", \"Total\"], columns=[\"Positivo\", \"Negativo\", \"Neutro\", \"Total\"])"
   ]
  },
  {
   "cell_type": "code",
   "execution_count": 44,
   "metadata": {},
   "outputs": [
    {
     "data": {
      "text/html": [
       "<div>\n",
       "<style scoped>\n",
       "    .dataframe tbody tr th:only-of-type {\n",
       "        vertical-align: middle;\n",
       "    }\n",
       "\n",
       "    .dataframe tbody tr th {\n",
       "        vertical-align: top;\n",
       "    }\n",
       "\n",
       "    .dataframe thead th {\n",
       "        text-align: right;\n",
       "    }\n",
       "</style>\n",
       "<table border=\"1\" class=\"dataframe\">\n",
       "  <thead>\n",
       "    <tr style=\"text-align: right;\">\n",
       "      <th></th>\n",
       "      <th>Positivo</th>\n",
       "      <th>Negativo</th>\n",
       "      <th>Neutro</th>\n",
       "      <th>Total</th>\n",
       "    </tr>\n",
       "  </thead>\n",
       "  <tbody>\n",
       "    <tr>\n",
       "      <td>Positivo</td>\n",
       "      <td>166287</td>\n",
       "      <td>NaN</td>\n",
       "      <td>NaN</td>\n",
       "      <td>NaN</td>\n",
       "    </tr>\n",
       "    <tr>\n",
       "      <td>Negativo</td>\n",
       "      <td>NaN</td>\n",
       "      <td>45149</td>\n",
       "      <td>NaN</td>\n",
       "      <td>NaN</td>\n",
       "    </tr>\n",
       "    <tr>\n",
       "      <td>Neutro</td>\n",
       "      <td>NaN</td>\n",
       "      <td>NaN</td>\n",
       "      <td>344354</td>\n",
       "      <td>NaN</td>\n",
       "    </tr>\n",
       "    <tr>\n",
       "      <td>Total</td>\n",
       "      <td>NaN</td>\n",
       "      <td>NaN</td>\n",
       "      <td>NaN</td>\n",
       "      <td>NaN</td>\n",
       "    </tr>\n",
       "  </tbody>\n",
       "</table>\n",
       "</div>"
      ],
      "text/plain": [
       "         Positivo Negativo  Neutro Total\n",
       "Positivo   166287      NaN     NaN   NaN\n",
       "Negativo      NaN    45149     NaN   NaN\n",
       "Neutro        NaN      NaN  344354   NaN\n",
       "Total         NaN      NaN     NaN   NaN"
      ]
     },
     "execution_count": 44,
     "metadata": {},
     "output_type": "execute_result"
    }
   ],
   "source": [
    "neutros, positivos, negativos = resultado_classificacao.query('Naive_Bayes == SVM')['Naive_Bayes'].value_counts()\n",
    "\n",
    "MNB_SVM.loc[\"Positivo\"][\"Positivo\"] = positivos\n",
    "MNB_SVM.loc[\"Negativo\"][\"Negativo\"] = negativos\n",
    "MNB_SVM.loc[\"Neutro\"][\"Neutro\"] = neutros\n",
    "\n",
    "MNB_SVM"
   ]
  },
  {
   "cell_type": "code",
   "execution_count": 45,
   "metadata": {},
   "outputs": [],
   "source": [
    "MNB_SVM.loc[\"Negativo\"][\"Positivo\"] = resultado_classificacao.query('Naive_Bayes == \"Negativo\" and SVM == \"Positivo\"')['Naive_Bayes'].value_counts()[0]\n",
    "MNB_SVM.loc[\"Neutro\"][\"Positivo\"] = resultado_classificacao.query('Naive_Bayes == \"Neutro\" and SVM == \"Positivo\"')['Naive_Bayes'].value_counts()[0]\n",
    "MNB_SVM.loc[\"Positivo\"][\"Negativo\"] = resultado_classificacao.query('Naive_Bayes == \"Positivo\" and SVM == \"Negativo\"')['Naive_Bayes'].value_counts()[0]\n",
    "MNB_SVM.loc[\"Neutro\"][\"Negativo\"] = resultado_classificacao.query('Naive_Bayes == \"Neutro\" and SVM == \"Negativo\"')['Naive_Bayes'].value_counts()[0]\n",
    "MNB_SVM.loc[\"Positivo\"][\"Neutro\"] = resultado_classificacao.query('Naive_Bayes == \"Positivo\" and SVM == \"Neutro\"')['Naive_Bayes'].value_counts()[0]\n",
    "MNB_SVM.loc[\"Negativo\"][\"Neutro\"] = resultado_classificacao.query('Naive_Bayes == \"Negativo\" and SVM == \"Neutro\"')['Naive_Bayes'].value_counts()[0]\n",
    "\n",
    "MNB_SVM.loc[\"Positivo\"][\"Total\"] = MNB_SVM.loc[\"Positivo\"].sum()\n",
    "MNB_SVM.loc[\"Negativo\"][\"Total\"] = MNB_SVM.loc[\"Negativo\"].sum()\n",
    "MNB_SVM.loc[\"Neutro\"][\"Total\"] = MNB_SVM.loc[\"Neutro\"].sum()\n",
    "\n",
    "MNB_SVM.loc[\"Total\"][\"Positivo\"] = MNB_SVM[\"Positivo\"].sum()\n",
    "MNB_SVM.loc[\"Total\"][\"Negativo\"] = MNB_SVM[\"Negativo\"].sum()\n",
    "MNB_SVM.loc[\"Total\"][\"Neutro\"] = MNB_SVM[\"Neutro\"].sum()\n",
    "\n",
    "MNB_SVM.loc[\"Total\"][\"Total\"] = MNB_SVM[\"Total\"].sum()"
   ]
  },
  {
   "cell_type": "markdown",
   "metadata": {},
   "source": [
    "# Naive Bayes x SVM"
   ]
  },
  {
   "cell_type": "code",
   "execution_count": 46,
   "metadata": {},
   "outputs": [
    {
     "data": {
      "text/html": [
       "<style  type=\"text/css\" >\n",
       "    #T_45895fe4_1aee_11eb_9561_8cec4b2453f0 th {\n",
       "          font-size: 150%;\n",
       "          text-align: center;\n",
       "          background: #606060;\n",
       "          color: white;\n",
       "    }    #T_45895fe4_1aee_11eb_9561_8cec4b2453f0 td {\n",
       "          font-size: 150%;\n",
       "          text-align: center;\n",
       "    }</style><table id=\"T_45895fe4_1aee_11eb_9561_8cec4b2453f0\" ><thead>    <tr>        <th class=\"blank level0\" ></th>        <th class=\"col_heading level0 col0\" >Positivo</th>        <th class=\"col_heading level0 col1\" >Negativo</th>        <th class=\"col_heading level0 col2\" >Neutro</th>        <th class=\"col_heading level0 col3\" >Total</th>    </tr></thead><tbody>\n",
       "                <tr>\n",
       "                        <th id=\"T_45895fe4_1aee_11eb_9561_8cec4b2453f0level0_row0\" class=\"row_heading level0 row0\" >Positivo</th>\n",
       "                        <td id=\"T_45895fe4_1aee_11eb_9561_8cec4b2453f0row0_col0\" class=\"data row0 col0\" >166287</td>\n",
       "                        <td id=\"T_45895fe4_1aee_11eb_9561_8cec4b2453f0row0_col1\" class=\"data row0 col1\" >6648</td>\n",
       "                        <td id=\"T_45895fe4_1aee_11eb_9561_8cec4b2453f0row0_col2\" class=\"data row0 col2\" >236920</td>\n",
       "                        <td id=\"T_45895fe4_1aee_11eb_9561_8cec4b2453f0row0_col3\" class=\"data row0 col3\" >409855</td>\n",
       "            </tr>\n",
       "            <tr>\n",
       "                        <th id=\"T_45895fe4_1aee_11eb_9561_8cec4b2453f0level0_row1\" class=\"row_heading level0 row1\" >Negativo</th>\n",
       "                        <td id=\"T_45895fe4_1aee_11eb_9561_8cec4b2453f0row1_col0\" class=\"data row1 col0\" >44257</td>\n",
       "                        <td id=\"T_45895fe4_1aee_11eb_9561_8cec4b2453f0row1_col1\" class=\"data row1 col1\" >45149</td>\n",
       "                        <td id=\"T_45895fe4_1aee_11eb_9561_8cec4b2453f0row1_col2\" class=\"data row1 col2\" >122981</td>\n",
       "                        <td id=\"T_45895fe4_1aee_11eb_9561_8cec4b2453f0row1_col3\" class=\"data row1 col3\" >212387</td>\n",
       "            </tr>\n",
       "            <tr>\n",
       "                        <th id=\"T_45895fe4_1aee_11eb_9561_8cec4b2453f0level0_row2\" class=\"row_heading level0 row2\" >Neutro</th>\n",
       "                        <td id=\"T_45895fe4_1aee_11eb_9561_8cec4b2453f0row2_col0\" class=\"data row2 col0\" >12316</td>\n",
       "                        <td id=\"T_45895fe4_1aee_11eb_9561_8cec4b2453f0row2_col1\" class=\"data row2 col1\" >1665</td>\n",
       "                        <td id=\"T_45895fe4_1aee_11eb_9561_8cec4b2453f0row2_col2\" class=\"data row2 col2\" >344354</td>\n",
       "                        <td id=\"T_45895fe4_1aee_11eb_9561_8cec4b2453f0row2_col3\" class=\"data row2 col3\" >358335</td>\n",
       "            </tr>\n",
       "            <tr>\n",
       "                        <th id=\"T_45895fe4_1aee_11eb_9561_8cec4b2453f0level0_row3\" class=\"row_heading level0 row3\" >Total</th>\n",
       "                        <td id=\"T_45895fe4_1aee_11eb_9561_8cec4b2453f0row3_col0\" class=\"data row3 col0\" >222860</td>\n",
       "                        <td id=\"T_45895fe4_1aee_11eb_9561_8cec4b2453f0row3_col1\" class=\"data row3 col1\" >53462</td>\n",
       "                        <td id=\"T_45895fe4_1aee_11eb_9561_8cec4b2453f0row3_col2\" class=\"data row3 col2\" >704255</td>\n",
       "                        <td id=\"T_45895fe4_1aee_11eb_9561_8cec4b2453f0row3_col3\" class=\"data row3 col3\" >980577</td>\n",
       "            </tr>\n",
       "    </tbody></table>"
      ],
      "text/plain": [
       "<pandas.io.formats.style.Styler at 0x1b300823608>"
      ]
     },
     "execution_count": 46,
     "metadata": {},
     "output_type": "execute_result"
    }
   ],
   "source": [
    "MNB_SVM.style.set_table_styles([\n",
    "    {'selector' : 'th', 'props' : [(\"font-size\", \"150%\"), (\"text-align\", \"center\"),\n",
    "                                  ('background', '#606060'), ('color', 'white'),]},\n",
    "    {'selector' : 'td', 'props' : [(\"font-size\", \"150%\"), (\"text-align\", \"center\")]},\n",
    "])"
   ]
  },
  {
   "cell_type": "code",
   "execution_count": null,
   "metadata": {},
   "outputs": [],
   "source": []
  },
  {
   "cell_type": "code",
   "execution_count": 47,
   "metadata": {},
   "outputs": [],
   "source": [
    "MNB_RF = pd.DataFrame( index=[\"Positivo\", \"Negativo\", \"Neutro\", \"Total\"], columns=[\"Positivo\", \"Negativo\", \"Neutro\", \"Total\"])\n",
    "\n",
    "neutros, positivos, negativos = resultado_classificacao.query('Naive_Bayes == Random_Forest')['Naive_Bayes'].value_counts()\n",
    "\n",
    "MNB_RF.loc[\"Positivo\"][\"Positivo\"] = positivos\n",
    "MNB_RF.loc[\"Negativo\"][\"Negativo\"] = negativos\n",
    "MNB_RF.loc[\"Neutro\"][\"Neutro\"] = neutros"
   ]
  },
  {
   "cell_type": "code",
   "execution_count": 48,
   "metadata": {},
   "outputs": [],
   "source": [
    "MNB_RF.loc[\"Negativo\"][\"Positivo\"] = resultado_classificacao.query('Naive_Bayes == \"Negativo\" and Random_Forest == \"Positivo\"')['Naive_Bayes'].value_counts()[0]\n",
    "MNB_RF.loc[\"Neutro\"][\"Positivo\"] = resultado_classificacao.query('Naive_Bayes == \"Neutro\" and Random_Forest == \"Positivo\"')['Naive_Bayes'].value_counts()[0]\n",
    "MNB_RF.loc[\"Positivo\"][\"Negativo\"] = resultado_classificacao.query('Naive_Bayes == \"Positivo\" and Random_Forest == \"Negativo\"')['Naive_Bayes'].value_counts()[0]\n",
    "MNB_RF.loc[\"Neutro\"][\"Negativo\"] = resultado_classificacao.query('Naive_Bayes == \"Neutro\" and Random_Forest == \"Negativo\"')['Naive_Bayes'].value_counts()[0]\n",
    "MNB_RF.loc[\"Positivo\"][\"Neutro\"] = resultado_classificacao.query('Naive_Bayes == \"Positivo\" and Random_Forest == \"Neutro\"')['Naive_Bayes'].value_counts()[0]\n",
    "MNB_RF.loc[\"Negativo\"][\"Neutro\"] = resultado_classificacao.query('Naive_Bayes == \"Negativo\" and Random_Forest == \"Neutro\"')['Naive_Bayes'].value_counts()[0]\n",
    "\n",
    "MNB_RF.loc[\"Positivo\"][\"Total\"] = MNB_RF.loc[\"Positivo\"].sum()\n",
    "MNB_RF.loc[\"Negativo\"][\"Total\"] = MNB_RF.loc[\"Negativo\"].sum()\n",
    "MNB_RF.loc[\"Neutro\"][\"Total\"] = MNB_RF.loc[\"Neutro\"].sum()\n",
    "\n",
    "MNB_RF.loc[\"Total\"][\"Positivo\"] = MNB_RF[\"Positivo\"].sum()\n",
    "MNB_RF.loc[\"Total\"][\"Negativo\"] = MNB_RF[\"Negativo\"].sum()\n",
    "MNB_RF.loc[\"Total\"][\"Neutro\"] = MNB_RF[\"Neutro\"].sum()\n",
    "\n",
    "MNB_RF.loc[\"Total\"][\"Total\"] = MNB_RF[\"Total\"].sum()"
   ]
  },
  {
   "cell_type": "markdown",
   "metadata": {},
   "source": [
    "# Naive Bayes x Random Forest"
   ]
  },
  {
   "cell_type": "code",
   "execution_count": 49,
   "metadata": {},
   "outputs": [
    {
     "data": {
      "text/html": [
       "<style  type=\"text/css\" >\n",
       "    #T_45f7db8c_1aee_11eb_a2d4_8cec4b2453f0 th {\n",
       "          font-size: 150%;\n",
       "          text-align: center;\n",
       "          background: #606060;\n",
       "          color: white;\n",
       "    }    #T_45f7db8c_1aee_11eb_a2d4_8cec4b2453f0 td {\n",
       "          font-size: 150%;\n",
       "          text-align: center;\n",
       "    }</style><table id=\"T_45f7db8c_1aee_11eb_a2d4_8cec4b2453f0\" ><thead>    <tr>        <th class=\"blank level0\" ></th>        <th class=\"col_heading level0 col0\" >Positivo</th>        <th class=\"col_heading level0 col1\" >Negativo</th>        <th class=\"col_heading level0 col2\" >Neutro</th>        <th class=\"col_heading level0 col3\" >Total</th>    </tr></thead><tbody>\n",
       "                <tr>\n",
       "                        <th id=\"T_45f7db8c_1aee_11eb_a2d4_8cec4b2453f0level0_row0\" class=\"row_heading level0 row0\" >Positivo</th>\n",
       "                        <td id=\"T_45f7db8c_1aee_11eb_a2d4_8cec4b2453f0row0_col0\" class=\"data row0 col0\" >51814</td>\n",
       "                        <td id=\"T_45f7db8c_1aee_11eb_a2d4_8cec4b2453f0row0_col1\" class=\"data row0 col1\" >20386</td>\n",
       "                        <td id=\"T_45f7db8c_1aee_11eb_a2d4_8cec4b2453f0row0_col2\" class=\"data row0 col2\" >337655</td>\n",
       "                        <td id=\"T_45f7db8c_1aee_11eb_a2d4_8cec4b2453f0row0_col3\" class=\"data row0 col3\" >409855</td>\n",
       "            </tr>\n",
       "            <tr>\n",
       "                        <th id=\"T_45f7db8c_1aee_11eb_a2d4_8cec4b2453f0level0_row1\" class=\"row_heading level0 row1\" >Negativo</th>\n",
       "                        <td id=\"T_45f7db8c_1aee_11eb_a2d4_8cec4b2453f0row1_col0\" class=\"data row1 col0\" >11665</td>\n",
       "                        <td id=\"T_45f7db8c_1aee_11eb_a2d4_8cec4b2453f0row1_col1\" class=\"data row1 col1\" >45749</td>\n",
       "                        <td id=\"T_45f7db8c_1aee_11eb_a2d4_8cec4b2453f0row1_col2\" class=\"data row1 col2\" >154973</td>\n",
       "                        <td id=\"T_45f7db8c_1aee_11eb_a2d4_8cec4b2453f0row1_col3\" class=\"data row1 col3\" >212387</td>\n",
       "            </tr>\n",
       "            <tr>\n",
       "                        <th id=\"T_45f7db8c_1aee_11eb_a2d4_8cec4b2453f0level0_row2\" class=\"row_heading level0 row2\" >Neutro</th>\n",
       "                        <td id=\"T_45f7db8c_1aee_11eb_a2d4_8cec4b2453f0row2_col0\" class=\"data row2 col0\" >5587</td>\n",
       "                        <td id=\"T_45f7db8c_1aee_11eb_a2d4_8cec4b2453f0row2_col1\" class=\"data row2 col1\" >2654</td>\n",
       "                        <td id=\"T_45f7db8c_1aee_11eb_a2d4_8cec4b2453f0row2_col2\" class=\"data row2 col2\" >350094</td>\n",
       "                        <td id=\"T_45f7db8c_1aee_11eb_a2d4_8cec4b2453f0row2_col3\" class=\"data row2 col3\" >358335</td>\n",
       "            </tr>\n",
       "            <tr>\n",
       "                        <th id=\"T_45f7db8c_1aee_11eb_a2d4_8cec4b2453f0level0_row3\" class=\"row_heading level0 row3\" >Total</th>\n",
       "                        <td id=\"T_45f7db8c_1aee_11eb_a2d4_8cec4b2453f0row3_col0\" class=\"data row3 col0\" >69066</td>\n",
       "                        <td id=\"T_45f7db8c_1aee_11eb_a2d4_8cec4b2453f0row3_col1\" class=\"data row3 col1\" >68789</td>\n",
       "                        <td id=\"T_45f7db8c_1aee_11eb_a2d4_8cec4b2453f0row3_col2\" class=\"data row3 col2\" >842722</td>\n",
       "                        <td id=\"T_45f7db8c_1aee_11eb_a2d4_8cec4b2453f0row3_col3\" class=\"data row3 col3\" >980577</td>\n",
       "            </tr>\n",
       "    </tbody></table>"
      ],
      "text/plain": [
       "<pandas.io.formats.style.Styler at 0x1b30084ca08>"
      ]
     },
     "execution_count": 49,
     "metadata": {},
     "output_type": "execute_result"
    }
   ],
   "source": [
    "MNB_RF.style.set_table_styles([\n",
    "    {'selector' : 'th', 'props' : [(\"font-size\", \"150%\"), (\"text-align\", \"center\"),\n",
    "                                  ('background', '#606060'), ('color', 'white'),]},\n",
    "    {'selector' : 'td', 'props' : [(\"font-size\", \"150%\"), (\"text-align\", \"center\")]},\n",
    "])"
   ]
  },
  {
   "cell_type": "code",
   "execution_count": null,
   "metadata": {},
   "outputs": [],
   "source": []
  },
  {
   "cell_type": "code",
   "execution_count": 50,
   "metadata": {},
   "outputs": [],
   "source": [
    "LR_SVM = pd.DataFrame( index=[\"Positivo\", \"Negativo\", \"Neutro\", \"Total\"], columns=[\"Positivo\", \"Negativo\", \"Neutro\", \"Total\"])\n",
    "\n",
    "neutros, positivos, negativos = resultado_classificacao.query('Logistic_Regression == SVM')['Logistic_Regression'].value_counts()\n",
    "\n",
    "LR_SVM.loc[\"Positivo\"][\"Positivo\"] = positivos\n",
    "LR_SVM.loc[\"Negativo\"][\"Negativo\"] = negativos\n",
    "LR_SVM.loc[\"Neutro\"][\"Neutro\"] = neutros"
   ]
  },
  {
   "cell_type": "code",
   "execution_count": 51,
   "metadata": {},
   "outputs": [],
   "source": [
    "LR_SVM.loc[\"Negativo\"][\"Positivo\"] = resultado_classificacao.query('Logistic_Regression == \"Negativo\" and SVM == \"Positivo\"')['Logistic_Regression'].value_counts()[0]\n",
    "LR_SVM.loc[\"Neutro\"][\"Positivo\"] = resultado_classificacao.query('Logistic_Regression == \"Neutro\" and SVM == \"Positivo\"')['Logistic_Regression'].value_counts()[0]\n",
    "LR_SVM.loc[\"Positivo\"][\"Negativo\"] = resultado_classificacao.query('Logistic_Regression == \"Positivo\" and SVM == \"Negativo\"')['Logistic_Regression'].value_counts()[0]\n",
    "LR_SVM.loc[\"Neutro\"][\"Negativo\"] = resultado_classificacao.query('Logistic_Regression == \"Neutro\" and SVM == \"Negativo\"')['Logistic_Regression'].value_counts()[0]\n",
    "LR_SVM.loc[\"Positivo\"][\"Neutro\"] = resultado_classificacao.query('Logistic_Regression == \"Positivo\" and SVM == \"Neutro\"')['Logistic_Regression'].value_counts()[0]\n",
    "LR_SVM.loc[\"Negativo\"][\"Neutro\"] = resultado_classificacao.query('Logistic_Regression == \"Negativo\" and SVM == \"Neutro\"')['Logistic_Regression'].value_counts()[0]\n",
    "\n",
    "LR_SVM.loc[\"Positivo\"][\"Total\"] = LR_SVM.loc[\"Positivo\"].sum()\n",
    "LR_SVM.loc[\"Negativo\"][\"Total\"] = LR_SVM.loc[\"Negativo\"].sum()\n",
    "LR_SVM.loc[\"Neutro\"][\"Total\"] = LR_SVM.loc[\"Neutro\"].sum()\n",
    "\n",
    "LR_SVM.loc[\"Total\"][\"Positivo\"] = LR_SVM[\"Positivo\"].sum()\n",
    "LR_SVM.loc[\"Total\"][\"Negativo\"] = LR_SVM[\"Negativo\"].sum()\n",
    "LR_SVM.loc[\"Total\"][\"Neutro\"] = LR_SVM[\"Neutro\"].sum()\n",
    "\n",
    "LR_SVM.loc[\"Total\"][\"Total\"] = LR_SVM[\"Total\"].sum()"
   ]
  },
  {
   "cell_type": "markdown",
   "metadata": {},
   "source": [
    "# Regressão Logística x SVM"
   ]
  },
  {
   "cell_type": "code",
   "execution_count": 52,
   "metadata": {},
   "outputs": [
    {
     "data": {
      "text/html": [
       "<style  type=\"text/css\" >\n",
       "    #T_46548928_1aee_11eb_bbb9_8cec4b2453f0 th {\n",
       "          font-size: 150%;\n",
       "          text-align: center;\n",
       "          background: #606060;\n",
       "          color: white;\n",
       "    }    #T_46548928_1aee_11eb_bbb9_8cec4b2453f0 td {\n",
       "          font-size: 150%;\n",
       "          text-align: center;\n",
       "    }</style><table id=\"T_46548928_1aee_11eb_bbb9_8cec4b2453f0\" ><thead>    <tr>        <th class=\"blank level0\" ></th>        <th class=\"col_heading level0 col0\" >Positivo</th>        <th class=\"col_heading level0 col1\" >Negativo</th>        <th class=\"col_heading level0 col2\" >Neutro</th>        <th class=\"col_heading level0 col3\" >Total</th>    </tr></thead><tbody>\n",
       "                <tr>\n",
       "                        <th id=\"T_46548928_1aee_11eb_bbb9_8cec4b2453f0level0_row0\" class=\"row_heading level0 row0\" >Positivo</th>\n",
       "                        <td id=\"T_46548928_1aee_11eb_bbb9_8cec4b2453f0row0_col0\" class=\"data row0 col0\" >178959</td>\n",
       "                        <td id=\"T_46548928_1aee_11eb_bbb9_8cec4b2453f0row0_col1\" class=\"data row0 col1\" >7411</td>\n",
       "                        <td id=\"T_46548928_1aee_11eb_bbb9_8cec4b2453f0row0_col2\" class=\"data row0 col2\" >23082</td>\n",
       "                        <td id=\"T_46548928_1aee_11eb_bbb9_8cec4b2453f0row0_col3\" class=\"data row0 col3\" >209452</td>\n",
       "            </tr>\n",
       "            <tr>\n",
       "                        <th id=\"T_46548928_1aee_11eb_bbb9_8cec4b2453f0level0_row1\" class=\"row_heading level0 row1\" >Negativo</th>\n",
       "                        <td id=\"T_46548928_1aee_11eb_bbb9_8cec4b2453f0row1_col0\" class=\"data row1 col0\" >6923</td>\n",
       "                        <td id=\"T_46548928_1aee_11eb_bbb9_8cec4b2453f0row1_col1\" class=\"data row1 col1\" >36547</td>\n",
       "                        <td id=\"T_46548928_1aee_11eb_bbb9_8cec4b2453f0row1_col2\" class=\"data row1 col2\" >2955</td>\n",
       "                        <td id=\"T_46548928_1aee_11eb_bbb9_8cec4b2453f0row1_col3\" class=\"data row1 col3\" >46425</td>\n",
       "            </tr>\n",
       "            <tr>\n",
       "                        <th id=\"T_46548928_1aee_11eb_bbb9_8cec4b2453f0level0_row2\" class=\"row_heading level0 row2\" >Neutro</th>\n",
       "                        <td id=\"T_46548928_1aee_11eb_bbb9_8cec4b2453f0row2_col0\" class=\"data row2 col0\" >36978</td>\n",
       "                        <td id=\"T_46548928_1aee_11eb_bbb9_8cec4b2453f0row2_col1\" class=\"data row2 col1\" >9504</td>\n",
       "                        <td id=\"T_46548928_1aee_11eb_bbb9_8cec4b2453f0row2_col2\" class=\"data row2 col2\" >678218</td>\n",
       "                        <td id=\"T_46548928_1aee_11eb_bbb9_8cec4b2453f0row2_col3\" class=\"data row2 col3\" >724700</td>\n",
       "            </tr>\n",
       "            <tr>\n",
       "                        <th id=\"T_46548928_1aee_11eb_bbb9_8cec4b2453f0level0_row3\" class=\"row_heading level0 row3\" >Total</th>\n",
       "                        <td id=\"T_46548928_1aee_11eb_bbb9_8cec4b2453f0row3_col0\" class=\"data row3 col0\" >222860</td>\n",
       "                        <td id=\"T_46548928_1aee_11eb_bbb9_8cec4b2453f0row3_col1\" class=\"data row3 col1\" >53462</td>\n",
       "                        <td id=\"T_46548928_1aee_11eb_bbb9_8cec4b2453f0row3_col2\" class=\"data row3 col2\" >704255</td>\n",
       "                        <td id=\"T_46548928_1aee_11eb_bbb9_8cec4b2453f0row3_col3\" class=\"data row3 col3\" >980577</td>\n",
       "            </tr>\n",
       "    </tbody></table>"
      ],
      "text/plain": [
       "<pandas.io.formats.style.Styler at 0x1b300859648>"
      ]
     },
     "execution_count": 52,
     "metadata": {},
     "output_type": "execute_result"
    }
   ],
   "source": [
    "LR_SVM.style.set_table_styles([\n",
    "    {'selector' : 'th', 'props' : [(\"font-size\", \"150%\"), (\"text-align\", \"center\"),\n",
    "                                  ('background', '#606060'), ('color', 'white'),]},\n",
    "    {'selector' : 'td', 'props' : [(\"font-size\", \"150%\"), (\"text-align\", \"center\")]},\n",
    "])"
   ]
  },
  {
   "cell_type": "code",
   "execution_count": null,
   "metadata": {},
   "outputs": [],
   "source": []
  },
  {
   "cell_type": "code",
   "execution_count": 53,
   "metadata": {},
   "outputs": [],
   "source": [
    "LR_RF = pd.DataFrame( index=[\"Positivo\", \"Negativo\", \"Neutro\", \"Total\"], columns=[\"Positivo\", \"Negativo\", \"Neutro\", \"Total\"])\n",
    "\n",
    "neutros, positivos, negativos = resultado_classificacao.query('Logistic_Regression == Random_Forest')['Logistic_Regression'].value_counts()\n",
    "\n",
    "LR_RF.loc[\"Positivo\"][\"Positivo\"] = positivos\n",
    "LR_RF.loc[\"Negativo\"][\"Negativo\"] = negativos\n",
    "LR_RF.loc[\"Neutro\"][\"Neutro\"] = neutros"
   ]
  },
  {
   "cell_type": "code",
   "execution_count": 54,
   "metadata": {},
   "outputs": [],
   "source": [
    "LR_RF.loc[\"Negativo\"][\"Positivo\"] = resultado_classificacao.query('Logistic_Regression == \"Negativo\" and Random_Forest == \"Positivo\"')['Logistic_Regression'].value_counts()[0]\n",
    "LR_RF.loc[\"Neutro\"][\"Positivo\"] = resultado_classificacao.query('Logistic_Regression == \"Neutro\" and Random_Forest == \"Positivo\"')['Logistic_Regression'].value_counts()[0]\n",
    "LR_RF.loc[\"Positivo\"][\"Negativo\"] = resultado_classificacao.query('Logistic_Regression == \"Positivo\" and Random_Forest == \"Negativo\"')['Logistic_Regression'].value_counts()[0]\n",
    "LR_RF.loc[\"Neutro\"][\"Negativo\"] = resultado_classificacao.query('Logistic_Regression == \"Neutro\" and Random_Forest == \"Negativo\"')['Logistic_Regression'].value_counts()[0]\n",
    "LR_RF.loc[\"Positivo\"][\"Neutro\"] = resultado_classificacao.query('Logistic_Regression == \"Positivo\" and Random_Forest == \"Neutro\"')['Logistic_Regression'].value_counts()[0]\n",
    "LR_RF.loc[\"Negativo\"][\"Neutro\"] = resultado_classificacao.query('Logistic_Regression == \"Negativo\" and Random_Forest == \"Neutro\"')['Logistic_Regression'].value_counts()[0]\n",
    "\n",
    "LR_RF.loc[\"Positivo\"][\"Total\"] = LR_RF.loc[\"Positivo\"].sum()\n",
    "LR_RF.loc[\"Negativo\"][\"Total\"] = LR_RF.loc[\"Negativo\"].sum()\n",
    "LR_RF.loc[\"Neutro\"][\"Total\"] = LR_RF.loc[\"Neutro\"].sum()\n",
    "\n",
    "LR_RF.loc[\"Total\"][\"Positivo\"] = LR_RF[\"Positivo\"].sum()\n",
    "LR_RF.loc[\"Total\"][\"Negativo\"] = LR_RF[\"Negativo\"].sum()\n",
    "LR_RF.loc[\"Total\"][\"Neutro\"] = LR_RF[\"Neutro\"].sum()\n",
    "\n",
    "LR_RF.loc[\"Total\"][\"Total\"] = LR_RF[\"Total\"].sum()"
   ]
  },
  {
   "cell_type": "markdown",
   "metadata": {},
   "source": [
    "# Regressão Logística x Random Forest"
   ]
  },
  {
   "cell_type": "code",
   "execution_count": 55,
   "metadata": {},
   "outputs": [
    {
     "data": {
      "text/html": [
       "<style  type=\"text/css\" >\n",
       "    #T_46bb1b08_1aee_11eb_80ec_8cec4b2453f0 th {\n",
       "          font-size: 150%;\n",
       "          text-align: center;\n",
       "          background: #606060;\n",
       "          color: white;\n",
       "    }    #T_46bb1b08_1aee_11eb_80ec_8cec4b2453f0 td {\n",
       "          font-size: 150%;\n",
       "          text-align: center;\n",
       "    }</style><table id=\"T_46bb1b08_1aee_11eb_80ec_8cec4b2453f0\" ><thead>    <tr>        <th class=\"blank level0\" ></th>        <th class=\"col_heading level0 col0\" >Positivo</th>        <th class=\"col_heading level0 col1\" >Negativo</th>        <th class=\"col_heading level0 col2\" >Neutro</th>        <th class=\"col_heading level0 col3\" >Total</th>    </tr></thead><tbody>\n",
       "                <tr>\n",
       "                        <th id=\"T_46bb1b08_1aee_11eb_80ec_8cec4b2453f0level0_row0\" class=\"row_heading level0 row0\" >Positivo</th>\n",
       "                        <td id=\"T_46bb1b08_1aee_11eb_80ec_8cec4b2453f0row0_col0\" class=\"data row0 col0\" >58823</td>\n",
       "                        <td id=\"T_46bb1b08_1aee_11eb_80ec_8cec4b2453f0row0_col1\" class=\"data row0 col1\" >26811</td>\n",
       "                        <td id=\"T_46bb1b08_1aee_11eb_80ec_8cec4b2453f0row0_col2\" class=\"data row0 col2\" >123818</td>\n",
       "                        <td id=\"T_46bb1b08_1aee_11eb_80ec_8cec4b2453f0row0_col3\" class=\"data row0 col3\" >209452</td>\n",
       "            </tr>\n",
       "            <tr>\n",
       "                        <th id=\"T_46bb1b08_1aee_11eb_80ec_8cec4b2453f0level0_row1\" class=\"row_heading level0 row1\" >Negativo</th>\n",
       "                        <td id=\"T_46bb1b08_1aee_11eb_80ec_8cec4b2453f0row1_col0\" class=\"data row1 col0\" >2966</td>\n",
       "                        <td id=\"T_46bb1b08_1aee_11eb_80ec_8cec4b2453f0row1_col1\" class=\"data row1 col1\" >27526</td>\n",
       "                        <td id=\"T_46bb1b08_1aee_11eb_80ec_8cec4b2453f0row1_col2\" class=\"data row1 col2\" >15933</td>\n",
       "                        <td id=\"T_46bb1b08_1aee_11eb_80ec_8cec4b2453f0row1_col3\" class=\"data row1 col3\" >46425</td>\n",
       "            </tr>\n",
       "            <tr>\n",
       "                        <th id=\"T_46bb1b08_1aee_11eb_80ec_8cec4b2453f0level0_row2\" class=\"row_heading level0 row2\" >Neutro</th>\n",
       "                        <td id=\"T_46bb1b08_1aee_11eb_80ec_8cec4b2453f0row2_col0\" class=\"data row2 col0\" >7277</td>\n",
       "                        <td id=\"T_46bb1b08_1aee_11eb_80ec_8cec4b2453f0row2_col1\" class=\"data row2 col1\" >14452</td>\n",
       "                        <td id=\"T_46bb1b08_1aee_11eb_80ec_8cec4b2453f0row2_col2\" class=\"data row2 col2\" >702971</td>\n",
       "                        <td id=\"T_46bb1b08_1aee_11eb_80ec_8cec4b2453f0row2_col3\" class=\"data row2 col3\" >724700</td>\n",
       "            </tr>\n",
       "            <tr>\n",
       "                        <th id=\"T_46bb1b08_1aee_11eb_80ec_8cec4b2453f0level0_row3\" class=\"row_heading level0 row3\" >Total</th>\n",
       "                        <td id=\"T_46bb1b08_1aee_11eb_80ec_8cec4b2453f0row3_col0\" class=\"data row3 col0\" >69066</td>\n",
       "                        <td id=\"T_46bb1b08_1aee_11eb_80ec_8cec4b2453f0row3_col1\" class=\"data row3 col1\" >68789</td>\n",
       "                        <td id=\"T_46bb1b08_1aee_11eb_80ec_8cec4b2453f0row3_col2\" class=\"data row3 col2\" >842722</td>\n",
       "                        <td id=\"T_46bb1b08_1aee_11eb_80ec_8cec4b2453f0row3_col3\" class=\"data row3 col3\" >980577</td>\n",
       "            </tr>\n",
       "    </tbody></table>"
      ],
      "text/plain": [
       "<pandas.io.formats.style.Styler at 0x1b30086af08>"
      ]
     },
     "execution_count": 55,
     "metadata": {},
     "output_type": "execute_result"
    }
   ],
   "source": [
    "LR_RF.style.set_table_styles([\n",
    "    {'selector' : 'th', 'props' : [(\"font-size\", \"150%\"), (\"text-align\", \"center\"),\n",
    "                                  ('background', '#606060'), ('color', 'white'),]},\n",
    "    {'selector' : 'td', 'props' : [(\"font-size\", \"150%\"), (\"text-align\", \"center\")]},\n",
    "])"
   ]
  },
  {
   "cell_type": "code",
   "execution_count": null,
   "metadata": {},
   "outputs": [],
   "source": []
  },
  {
   "cell_type": "code",
   "execution_count": 56,
   "metadata": {},
   "outputs": [],
   "source": [
    "SVM_RF = pd.DataFrame( index=[\"Positivo\", \"Negativo\", \"Neutro\", \"Total\"], columns=[\"Positivo\", \"Negativo\", \"Neutro\", \"Total\"])\n",
    "\n",
    "neutros, positivos, negativos = resultado_classificacao.query('SVM == Random_Forest')['SVM'].value_counts()\n",
    "\n",
    "SVM_RF.loc[\"Positivo\"][\"Positivo\"] = positivos\n",
    "SVM_RF.loc[\"Negativo\"][\"Negativo\"] = negativos\n",
    "SVM_RF.loc[\"Neutro\"][\"Neutro\"] = neutros"
   ]
  },
  {
   "cell_type": "code",
   "execution_count": 57,
   "metadata": {},
   "outputs": [],
   "source": [
    "SVM_RF.loc[\"Negativo\"][\"Positivo\"] = resultado_classificacao.query('SVM == \"Negativo\" and Random_Forest == \"Positivo\"')['SVM'].value_counts()[0]\n",
    "SVM_RF.loc[\"Neutro\"][\"Positivo\"] = resultado_classificacao.query('SVM == \"Neutro\" and Random_Forest == \"Positivo\"')['SVM'].value_counts()[0]\n",
    "SVM_RF.loc[\"Positivo\"][\"Negativo\"] = resultado_classificacao.query('SVM == \"Positivo\" and Random_Forest == \"Negativo\"')['SVM'].value_counts()[0]\n",
    "SVM_RF.loc[\"Neutro\"][\"Negativo\"] = resultado_classificacao.query('SVM == \"Neutro\" and Random_Forest == \"Negativo\"')['SVM'].value_counts()[0]\n",
    "SVM_RF.loc[\"Positivo\"][\"Neutro\"] = resultado_classificacao.query('SVM == \"Positivo\" and Random_Forest == \"Neutro\"')['SVM'].value_counts()[0]\n",
    "SVM_RF.loc[\"Negativo\"][\"Neutro\"] = resultado_classificacao.query('SVM == \"Negativo\" and Random_Forest == \"Neutro\"')['SVM'].value_counts()[0]\n",
    "\n",
    "SVM_RF.loc[\"Positivo\"][\"Total\"] = SVM_RF.loc[\"Positivo\"].sum()\n",
    "SVM_RF.loc[\"Negativo\"][\"Total\"] = SVM_RF.loc[\"Negativo\"].sum()\n",
    "SVM_RF.loc[\"Neutro\"][\"Total\"] = SVM_RF.loc[\"Neutro\"].sum()\n",
    "\n",
    "SVM_RF.loc[\"Total\"][\"Positivo\"] = SVM_RF[\"Positivo\"].sum()\n",
    "SVM_RF.loc[\"Total\"][\"Negativo\"] = SVM_RF[\"Negativo\"].sum()\n",
    "SVM_RF.loc[\"Total\"][\"Neutro\"] = SVM_RF[\"Neutro\"].sum()\n",
    "\n",
    "SVM_RF.loc[\"Total\"][\"Total\"] = SVM_RF[\"Total\"].sum()"
   ]
  },
  {
   "cell_type": "markdown",
   "metadata": {},
   "source": [
    "# SVM x Random Forest"
   ]
  },
  {
   "cell_type": "code",
   "execution_count": 58,
   "metadata": {},
   "outputs": [
    {
     "data": {
      "text/html": [
       "<style  type=\"text/css\" >\n",
       "    #T_4723a758_1aee_11eb_99f1_8cec4b2453f0 th {\n",
       "          font-size: 150%;\n",
       "          text-align: center;\n",
       "          background: #606060;\n",
       "          color: white;\n",
       "    }    #T_4723a758_1aee_11eb_99f1_8cec4b2453f0 td {\n",
       "          font-size: 150%;\n",
       "          text-align: center;\n",
       "    }</style><table id=\"T_4723a758_1aee_11eb_99f1_8cec4b2453f0\" ><thead>    <tr>        <th class=\"blank level0\" ></th>        <th class=\"col_heading level0 col0\" >Positivo</th>        <th class=\"col_heading level0 col1\" >Negativo</th>        <th class=\"col_heading level0 col2\" >Neutro</th>        <th class=\"col_heading level0 col3\" >Total</th>    </tr></thead><tbody>\n",
       "                <tr>\n",
       "                        <th id=\"T_4723a758_1aee_11eb_99f1_8cec4b2453f0level0_row0\" class=\"row_heading level0 row0\" >Positivo</th>\n",
       "                        <td id=\"T_4723a758_1aee_11eb_99f1_8cec4b2453f0row0_col0\" class=\"data row0 col0\" >56341</td>\n",
       "                        <td id=\"T_4723a758_1aee_11eb_99f1_8cec4b2453f0row0_col1\" class=\"data row0 col1\" >29348</td>\n",
       "                        <td id=\"T_4723a758_1aee_11eb_99f1_8cec4b2453f0row0_col2\" class=\"data row0 col2\" >137171</td>\n",
       "                        <td id=\"T_4723a758_1aee_11eb_99f1_8cec4b2453f0row0_col3\" class=\"data row0 col3\" >222860</td>\n",
       "            </tr>\n",
       "            <tr>\n",
       "                        <th id=\"T_4723a758_1aee_11eb_99f1_8cec4b2453f0level0_row1\" class=\"row_heading level0 row1\" >Negativo</th>\n",
       "                        <td id=\"T_4723a758_1aee_11eb_99f1_8cec4b2453f0row1_col0\" class=\"data row1 col0\" >3299</td>\n",
       "                        <td id=\"T_4723a758_1aee_11eb_99f1_8cec4b2453f0row1_col1\" class=\"data row1 col1\" >26612</td>\n",
       "                        <td id=\"T_4723a758_1aee_11eb_99f1_8cec4b2453f0row1_col2\" class=\"data row1 col2\" >23551</td>\n",
       "                        <td id=\"T_4723a758_1aee_11eb_99f1_8cec4b2453f0row1_col3\" class=\"data row1 col3\" >53462</td>\n",
       "            </tr>\n",
       "            <tr>\n",
       "                        <th id=\"T_4723a758_1aee_11eb_99f1_8cec4b2453f0level0_row2\" class=\"row_heading level0 row2\" >Neutro</th>\n",
       "                        <td id=\"T_4723a758_1aee_11eb_99f1_8cec4b2453f0row2_col0\" class=\"data row2 col0\" >9426</td>\n",
       "                        <td id=\"T_4723a758_1aee_11eb_99f1_8cec4b2453f0row2_col1\" class=\"data row2 col1\" >12829</td>\n",
       "                        <td id=\"T_4723a758_1aee_11eb_99f1_8cec4b2453f0row2_col2\" class=\"data row2 col2\" >682000</td>\n",
       "                        <td id=\"T_4723a758_1aee_11eb_99f1_8cec4b2453f0row2_col3\" class=\"data row2 col3\" >704255</td>\n",
       "            </tr>\n",
       "            <tr>\n",
       "                        <th id=\"T_4723a758_1aee_11eb_99f1_8cec4b2453f0level0_row3\" class=\"row_heading level0 row3\" >Total</th>\n",
       "                        <td id=\"T_4723a758_1aee_11eb_99f1_8cec4b2453f0row3_col0\" class=\"data row3 col0\" >69066</td>\n",
       "                        <td id=\"T_4723a758_1aee_11eb_99f1_8cec4b2453f0row3_col1\" class=\"data row3 col1\" >68789</td>\n",
       "                        <td id=\"T_4723a758_1aee_11eb_99f1_8cec4b2453f0row3_col2\" class=\"data row3 col2\" >842722</td>\n",
       "                        <td id=\"T_4723a758_1aee_11eb_99f1_8cec4b2453f0row3_col3\" class=\"data row3 col3\" >980577</td>\n",
       "            </tr>\n",
       "    </tbody></table>"
      ],
      "text/plain": [
       "<pandas.io.formats.style.Styler at 0x1b300847f48>"
      ]
     },
     "execution_count": 58,
     "metadata": {},
     "output_type": "execute_result"
    }
   ],
   "source": [
    "SVM_RF.style.set_table_styles([\n",
    "    {'selector' : 'th', 'props' : [(\"font-size\", \"150%\"), (\"text-align\", \"center\"),\n",
    "                                  ('background', '#606060'), ('color', 'white'),]},\n",
    "    {'selector' : 'td', 'props' : [(\"font-size\", \"150%\"), (\"text-align\", \"center\")]},\n",
    "])"
   ]
  },
  {
   "cell_type": "code",
   "execution_count": null,
   "metadata": {},
   "outputs": [],
   "source": []
  }
 ],
 "metadata": {
  "kernelspec": {
   "display_name": "Python 3",
   "language": "python",
   "name": "python3"
  },
  "language_info": {
   "codemirror_mode": {
    "name": "ipython",
    "version": 3
   },
   "file_extension": ".py",
   "mimetype": "text/x-python",
   "name": "python",
   "nbconvert_exporter": "python",
   "pygments_lexer": "ipython3",
   "version": "3.7.4"
  }
 },
 "nbformat": 4,
 "nbformat_minor": 2
}
