{
 "cells": [
  {
   "cell_type": "code",
   "execution_count": 1,
   "metadata": {},
   "outputs": [],
   "source": [
    "import pandas as pd\n",
    "import matplotlib.pyplot as plt\n",
    "%matplotlib inline\n",
    "\n",
    "import seaborn as sns\n",
    "import nltk\n",
    "\n",
    "from nltk import tokenize\n",
    "from nltk import TweetTokenizer\n",
    "\n",
    "from sklearn import metrics\n",
    "from sklearn.feature_extraction.text import CountVectorizer\n",
    "from sklearn.feature_extraction.text import TfidfTransformer\n",
    "from sklearn.feature_extraction.text import TfidfVectorizer\n",
    "from sklearn.model_selection import cross_val_predict\n",
    "\n",
    "from sklearn.linear_model import LogisticRegression\n",
    "from sklearn.naive_bayes import MultinomialNB\n",
    "from sklearn.svm import LinearSVC\n",
    "from sklearn.ensemble import RandomForestClassifier\n",
    "\n",
    "from joblib import dump"
   ]
  },
  {
   "cell_type": "markdown",
   "metadata": {},
   "source": [
    "## Funções que criam os modelos utilizando algortmos diferentes\n",
    "O funcionamento delas são bem parecidos, o que muda é qual metodo do sklearn vai ser utilizado que corresponda aquele algortimo desejado.\n",
    "\n",
    "As funções recebem como parametro os dados correspondente ao x e y de treino.\n",
    "\n",
    "Com esses dados elas criam e treinam o modelo.\n",
    "\n",
    "Realizam uma validação cruzada com 10 interações.\n",
    "\n",
    "Retornam o modelo criado e treinado, e também os resultados da validação cruzada."
   ]
  },
  {
   "cell_type": "code",
   "execution_count": 2,
   "metadata": {},
   "outputs": [],
   "source": [
    "#Baseado em Naive Bayes Multinomial (MultinomoalNB)\n",
    "def _MNB(X_treino, y_treino): \n",
    "    \n",
    "    modelo_MNB = MultinomialNB()\n",
    "    modelo_MNB.fit(X_treino, y_treino)\n",
    "    \n",
    "    resultados_MNB = cross_val_predict(modelo_MNB, X_treino, y_treino, cv = 10)\n",
    "\n",
    "    return  modelo_MNB, resultados_MNB"
   ]
  },
  {
   "cell_type": "code",
   "execution_count": 3,
   "metadata": {},
   "outputs": [],
   "source": [
    "#Regressão logistica (LosgisticRegression)\n",
    "def _LR(X_treino, y_treino):\n",
    "    \n",
    "    modelo_LR = LogisticRegression(solver='lbfgs', max_iter=200, random_state=322, multi_class=\"multinomial\")\n",
    "    modelo_LR.fit(X_treino, y_treino)\n",
    "    \n",
    "    resultados_LR = cross_val_predict(modelo_LR, X_treino, y_treino, cv = 10)\n",
    "    \n",
    "    return modelo_LR, resultados_LR"
   ]
  },
  {
   "cell_type": "code",
   "execution_count": 4,
   "metadata": {},
   "outputs": [],
   "source": [
    "#Máquinas de Vetores de Suporte(LinearSVC)\n",
    "def _LSVM(X_treino, y_treino):\n",
    "    \n",
    "    modelo_LSVM = LinearSVC()\n",
    "    modelo_LSVM.fit(X_treino, y_treino)\n",
    "    \n",
    "    resultados_LSVM = cross_val_predict(modelo_LSVM, X_treino, y_treino, cv = 10)\n",
    "    \n",
    "    return modelo_LSVM, resultados_LSVM"
   ]
  },
  {
   "cell_type": "code",
   "execution_count": 5,
   "metadata": {},
   "outputs": [],
   "source": [
    "#Florestas Aleatórias(RancomForest)\n",
    "def _RF(X_treino, y_treino):\n",
    "    \n",
    "    modelo_RF = RandomForestClassifier(n_estimators=100, random_state=142)\n",
    "    modelo_RF.fit(X_treino, y_treino)\n",
    "    \n",
    "    resultados_RF = cross_val_predict(modelo_RF, X_treino, y_treino, cv = 10)\n",
    "    \n",
    "    return modelo_RF, resultados_RF"
   ]
  },
  {
   "cell_type": "code",
   "execution_count": 6,
   "metadata": {},
   "outputs": [],
   "source": [
    "base_treino_teste = pd.read_csv(\"dados\\\\resultados\\\\base_treino_teste_processada.csv\")\n",
    "\n",
    "base_coletada = pd.read_csv(\"dados\\\\resultados\\\\base_coletada_processada.csv\")"
   ]
  },
  {
   "cell_type": "code",
   "execution_count": 7,
   "metadata": {},
   "outputs": [],
   "source": [
    "base_treino_teste = base_treino_teste.fillna('')\n",
    "\n",
    "base_coletada = base_coletada.fillna('')"
   ]
  },
  {
   "cell_type": "markdown",
   "metadata": {},
   "source": [
    "# Atribuindo dados de X de treino e y de treino"
   ]
  },
  {
   "cell_type": "code",
   "execution_count": 8,
   "metadata": {},
   "outputs": [],
   "source": [
    "X_treino = base_treino_teste[\"Text\"].values\n",
    "y_treino = base_treino_teste['Classificacao'].values"
   ]
  },
  {
   "cell_type": "markdown",
   "metadata": {},
   "source": [
    "# Transformando X de treino em uma matriz de frequências "
   ]
  },
  {
   "cell_type": "code",
   "execution_count": 9,
   "metadata": {},
   "outputs": [],
   "source": [
    "vectorizer = CountVectorizer(analyzer = \"word\")\n",
    "X_treino_matriz = vectorizer.fit_transform(X_treino)"
   ]
  },
  {
   "cell_type": "markdown",
   "metadata": {},
   "source": [
    "# Transformando a matriz de frequencia em uma matriz TFIDF"
   ]
  },
  {
   "cell_type": "code",
   "execution_count": 10,
   "metadata": {},
   "outputs": [],
   "source": [
    "tfidf_transformer = TfidfTransformer()\n",
    "X_treino_tfidf = tfidf_transformer.fit_transform(X_treino_matriz)"
   ]
  },
  {
   "cell_type": "markdown",
   "metadata": {},
   "source": [
    "# Criação dos Modelos e Demonstração das Métricas de Validação Cruzada "
   ]
  },
  {
   "cell_type": "code",
   "execution_count": 11,
   "metadata": {},
   "outputs": [],
   "source": [
    "modelo_MNB, resultados_MNB  = _MNB(X_treino_tfidf, y_treino)\n",
    "modelo_LR, resultados_LR = _LR(X_treino_tfidf, y_treino)\n",
    "modelo_LSVM, resultados_LSVM = _LSVM(X_treino_tfidf, y_treino)\n",
    "modelo_RF, resultados_RF = _RF(X_treino_tfidf, y_treino)"
   ]
  },
  {
   "cell_type": "markdown",
   "metadata": {},
   "source": [
    "# Acurácia (score) de cada modelo"
   ]
  },
  {
   "cell_type": "code",
   "execution_count": 12,
   "metadata": {},
   "outputs": [
    {
     "name": "stdout",
     "output_type": "stream",
     "text": [
      "MultinomialNB -> 0.789101299408123\n",
      "Regressão Logistica -> 0.8306007211374924\n",
      "Máquinas de Vetores de Suporte -> 0.8421661337505952\n",
      "Florestas Aleatórias -> 0.8290359888427784\n"
     ]
    }
   ],
   "source": [
    "score_MNB = metrics.accuracy_score(y_treino, resultados_MNB)\n",
    "score_LR = metrics.accuracy_score(y_treino, resultados_LR)\n",
    "score_LSVM = metrics.accuracy_score(y_treino, resultados_LSVM)\n",
    "score_RF = metrics.accuracy_score(y_treino, resultados_RF)\n",
    "\n",
    "print(\"MultinomialNB ->\", score_MNB)\n",
    "print(\"Regressão Logistica ->\", score_LR)\n",
    "print(\"Máquinas de Vetores de Suporte ->\", score_LSVM)\n",
    "print(\"Florestas Aleatórias ->\", score_RF)"
   ]
  },
  {
   "cell_type": "markdown",
   "metadata": {},
   "source": [
    "# Armazenando as acurácias em um dataframe"
   ]
  },
  {
   "cell_type": "code",
   "execution_count": 13,
   "metadata": {},
   "outputs": [],
   "source": [
    "score_modelos = pd.DataFrame([[score_MNB, score_LR, score_LSVM, score_RF]], index=[\"Bruto\"], columns=[\"Naive Bayes\", \"Regressão Logística\", \"Máquina de Vetores de Suporte\", \"Floresta Aleatória\"])"
   ]
  },
  {
   "cell_type": "markdown",
   "metadata": {},
   "source": [
    "# Métricas de validação resultante da validação cruzada "
   ]
  },
  {
   "cell_type": "markdown",
   "metadata": {},
   "source": [
    "### Naive Bayes"
   ]
  },
  {
   "cell_type": "code",
   "execution_count": 14,
   "metadata": {},
   "outputs": [
    {
     "name": "stdout",
     "output_type": "stream",
     "text": [
      "              precision    recall  f1-score   support\n",
      "\n",
      "    Positivo       0.78      0.73      0.75      4900\n",
      "    Negativo       0.71      0.89      0.79      4896\n",
      "      Neutro       0.91      0.75      0.83      4903\n",
      "\n",
      "    accuracy                           0.79     14699\n",
      "   macro avg       0.80      0.79      0.79     14699\n",
      "weighted avg       0.80      0.79      0.79     14699\n",
      "\n"
     ]
    }
   ],
   "source": [
    "sentimentos = [\"Positivo\", \"Negativo\", \"Neutro\"]\n",
    "print(metrics.classification_report(y_treino, resultados_MNB, sentimentos))"
   ]
  },
  {
   "cell_type": "markdown",
   "metadata": {},
   "source": [
    "### Regressão Logística"
   ]
  },
  {
   "cell_type": "code",
   "execution_count": 15,
   "metadata": {},
   "outputs": [
    {
     "name": "stdout",
     "output_type": "stream",
     "text": [
      "              precision    recall  f1-score   support\n",
      "\n",
      "    Positivo       0.80      0.81      0.81      4900\n",
      "    Negativo       0.82      0.79      0.80      4896\n",
      "      Neutro       0.87      0.89      0.88      4903\n",
      "\n",
      "    accuracy                           0.83     14699\n",
      "   macro avg       0.83      0.83      0.83     14699\n",
      "weighted avg       0.83      0.83      0.83     14699\n",
      "\n"
     ]
    }
   ],
   "source": [
    "sentimentos = [\"Positivo\", \"Negativo\", \"Neutro\"]\n",
    "print(metrics.classification_report(y_treino, resultados_LR, sentimentos))"
   ]
  },
  {
   "cell_type": "markdown",
   "metadata": {},
   "source": [
    "### SVM"
   ]
  },
  {
   "cell_type": "code",
   "execution_count": 16,
   "metadata": {},
   "outputs": [
    {
     "name": "stdout",
     "output_type": "stream",
     "text": [
      "              precision    recall  f1-score   support\n",
      "\n",
      "    Positivo       0.82      0.81      0.82      4900\n",
      "    Negativo       0.81      0.81      0.81      4896\n",
      "      Neutro       0.89      0.90      0.90      4903\n",
      "\n",
      "    accuracy                           0.84     14699\n",
      "   macro avg       0.84      0.84      0.84     14699\n",
      "weighted avg       0.84      0.84      0.84     14699\n",
      "\n"
     ]
    }
   ],
   "source": [
    "sentimentos = [\"Positivo\", \"Negativo\", \"Neutro\"]\n",
    "print(metrics.classification_report(y_treino, resultados_LSVM, sentimentos))"
   ]
  },
  {
   "cell_type": "markdown",
   "metadata": {},
   "source": [
    "### Random Forest"
   ]
  },
  {
   "cell_type": "code",
   "execution_count": 17,
   "metadata": {},
   "outputs": [
    {
     "name": "stdout",
     "output_type": "stream",
     "text": [
      "              precision    recall  f1-score   support\n",
      "\n",
      "    Positivo       0.85      0.74      0.79      4900\n",
      "    Negativo       0.79      0.82      0.80      4896\n",
      "      Neutro       0.85      0.93      0.89      4903\n",
      "\n",
      "    accuracy                           0.83     14699\n",
      "   macro avg       0.83      0.83      0.83     14699\n",
      "weighted avg       0.83      0.83      0.83     14699\n",
      "\n"
     ]
    }
   ],
   "source": [
    "sentimentos = [\"Positivo\", \"Negativo\", \"Neutro\"]\n",
    "print(metrics.classification_report(y_treino, resultados_RF, sentimentos))"
   ]
  },
  {
   "cell_type": "markdown",
   "metadata": {},
   "source": [
    "# Matriz de Confusão"
   ]
  },
  {
   "cell_type": "markdown",
   "metadata": {},
   "source": [
    "### Naive Bayes"
   ]
  },
  {
   "cell_type": "code",
   "execution_count": 18,
   "metadata": {},
   "outputs": [
    {
     "name": "stdout",
     "output_type": "stream",
     "text": [
      "Predito   Negativo  Neutro  Positivo    All\n",
      "Real                                       \n",
      "Negativo      4352     134       410   4896\n",
      "Neutro         644    3689       570   4903\n",
      "Positivo      1125     217      3558   4900\n",
      "All           6121    4040      4538  14699\n"
     ]
    }
   ],
   "source": [
    "print(pd.crosstab(y_treino, resultados_MNB, rownames = [\"Real\"], colnames=[\"Predito\"], margins=True))"
   ]
  },
  {
   "cell_type": "markdown",
   "metadata": {},
   "source": [
    "### Regressão Logística"
   ]
  },
  {
   "cell_type": "code",
   "execution_count": 19,
   "metadata": {},
   "outputs": [
    {
     "name": "stdout",
     "output_type": "stream",
     "text": [
      "Predito   Negativo  Neutro  Positivo    All\n",
      "Real                                       \n",
      "Negativo      3870     342       684   4896\n",
      "Neutro         255    4366       282   4903\n",
      "Positivo       619     308      3973   4900\n",
      "All           4744    5016      4939  14699\n"
     ]
    }
   ],
   "source": [
    "print(pd.crosstab(y_treino, resultados_LR, rownames = [\"Real\"], colnames=[\"Predito\"], margins=True))"
   ]
  },
  {
   "cell_type": "markdown",
   "metadata": {},
   "source": [
    "### SVM"
   ]
  },
  {
   "cell_type": "code",
   "execution_count": 20,
   "metadata": {},
   "outputs": [
    {
     "name": "stdout",
     "output_type": "stream",
     "text": [
      "Predito   Negativo  Neutro  Positivo    All\n",
      "Real                                       \n",
      "Negativo      3983     258       655   4896\n",
      "Neutro         266    4418       219   4903\n",
      "Positivo       657     265      3978   4900\n",
      "All           4906    4941      4852  14699\n"
     ]
    }
   ],
   "source": [
    "print(pd.crosstab(y_treino, resultados_LSVM, rownames = [\"Real\"], colnames=[\"Predito\"], margins=True))"
   ]
  },
  {
   "cell_type": "markdown",
   "metadata": {},
   "source": [
    "### Random Forest"
   ]
  },
  {
   "cell_type": "code",
   "execution_count": 21,
   "metadata": {},
   "outputs": [
    {
     "name": "stdout",
     "output_type": "stream",
     "text": [
      "Predito   Negativo  Neutro  Positivo    All\n",
      "Real                                       \n",
      "Negativo      4002     371       523   4896\n",
      "Neutro         229    4536       138   4903\n",
      "Positivo       835     417      3648   4900\n",
      "All           5066    5324      4309  14699\n"
     ]
    }
   ],
   "source": [
    "print(pd.crosstab(y_treino, resultados_RF, rownames = [\"Real\"], colnames=[\"Predito\"], margins=True))"
   ]
  },
  {
   "cell_type": "markdown",
   "metadata": {},
   "source": [
    "## Avaliação do processamento de dados"
   ]
  },
  {
   "cell_type": "markdown",
   "metadata": {},
   "source": [
    "### Tratamento de URLs"
   ]
  },
  {
   "cell_type": "code",
   "execution_count": 22,
   "metadata": {},
   "outputs": [],
   "source": [
    "X_treino = base_treino_teste['URL']\n",
    "\n",
    "tfidf_transformer = TfidfVectorizer(analyzer = \"word\")\n",
    "X_tfidf = tfidf_transformer.fit_transform(X_treino)\n",
    "\n",
    "modelo_MNB, resultados_MNB  = _MNB(X_tfidf, y_treino)\n",
    "modelo_LR, resultados_LR = _LR(X_tfidf, y_treino)\n",
    "modelo_LSVM, resultados_LSVM = _LSVM(X_tfidf, y_treino)\n",
    "modelo_RF, resultados_RF = _RF(X_tfidf, y_treino)"
   ]
  },
  {
   "cell_type": "code",
   "execution_count": 23,
   "metadata": {},
   "outputs": [],
   "source": [
    "score_MNB = metrics.accuracy_score(y_treino, resultados_MNB)\n",
    "score_LR = metrics.accuracy_score(y_treino, resultados_LR)\n",
    "score_LSVM = metrics.accuracy_score(y_treino, resultados_LSVM)\n",
    "score_RF = metrics.accuracy_score(y_treino, resultados_RF)\n",
    "\n",
    "score_modelos = pd.concat([score_modelos, pd.DataFrame([[score_MNB, score_LR, score_LSVM, score_RF]], index=[\"URLs\"], columns=[\"Naive Bayes\", \"Regressão Logística\", \"Máquina de Vetores de Suporte\", \"Floresta Aleatória\"])])"
   ]
  },
  {
   "cell_type": "markdown",
   "metadata": {},
   "source": [
    "### Hashtags"
   ]
  },
  {
   "cell_type": "code",
   "execution_count": 24,
   "metadata": {},
   "outputs": [],
   "source": [
    "X_treino = base_treino_teste['Hashtags']\n",
    "\n",
    "tfidf_transformer = TfidfVectorizer(analyzer = \"word\")\n",
    "X_tfidf = tfidf_transformer.fit_transform(X_treino)\n",
    "\n",
    "modelo_MNB, resultados_MNB  = _MNB(X_tfidf, y_treino)\n",
    "modelo_LR, resultados_LR = _LR(X_tfidf, y_treino)\n",
    "modelo_LSVM, resultados_LSVM = _LSVM(X_tfidf, y_treino)\n",
    "modelo_RF, resultados_RF = _RF(X_tfidf, y_treino)"
   ]
  },
  {
   "cell_type": "code",
   "execution_count": 25,
   "metadata": {},
   "outputs": [],
   "source": [
    "score_MNB = metrics.accuracy_score(y_treino, resultados_MNB)\n",
    "score_LR = metrics.accuracy_score(y_treino, resultados_LR)\n",
    "score_LSVM = metrics.accuracy_score(y_treino, resultados_LSVM)\n",
    "score_RF = metrics.accuracy_score(y_treino, resultados_RF)\n",
    "\n",
    "score_modelos = pd.concat([score_modelos, pd.DataFrame([[score_MNB, score_LR, score_LSVM, score_RF]], index=[\"Hashtags\"], columns=[\"Naive Bayes\", \"Regressão Logística\", \"Máquina de Vetores de Suporte\", \"Floresta Aleatória\"])])"
   ]
  },
  {
   "cell_type": "markdown",
   "metadata": {},
   "source": [
    "### Menções"
   ]
  },
  {
   "cell_type": "code",
   "execution_count": 26,
   "metadata": {},
   "outputs": [],
   "source": [
    "X_treino = base_treino_teste['Mencoes']\n",
    "\n",
    "tfidf_transformer = TfidfVectorizer(analyzer = \"word\")\n",
    "X_tfidf = tfidf_transformer.fit_transform(X_treino)\n",
    "\n",
    "modelo_MNB, resultados_MNB  = _MNB(X_tfidf, y_treino)\n",
    "modelo_LR, resultados_LR = _LR(X_tfidf, y_treino)\n",
    "modelo_LSVM, resultados_LSVM = _LSVM(X_tfidf, y_treino)\n",
    "modelo_RF, resultados_RF = _RF(X_tfidf, y_treino)"
   ]
  },
  {
   "cell_type": "code",
   "execution_count": 27,
   "metadata": {},
   "outputs": [],
   "source": [
    "score_MNB = metrics.accuracy_score(y_treino, resultados_MNB)\n",
    "score_LR = metrics.accuracy_score(y_treino, resultados_LR)\n",
    "score_LSVM = metrics.accuracy_score(y_treino, resultados_LSVM)\n",
    "score_RF = metrics.accuracy_score(y_treino, resultados_RF)\n",
    "\n",
    "score_modelos = pd.concat([score_modelos, pd.DataFrame([[score_MNB, score_LR, score_LSVM, score_RF]], index=[\"Menções\"], columns=[\"Naive Bayes\", \"Regressão Logística\", \"Máquina de Vetores de Suporte\", \"Floresta Aleatória\"])])"
   ]
  },
  {
   "cell_type": "markdown",
   "metadata": {},
   "source": [
    "### Abreviações"
   ]
  },
  {
   "cell_type": "code",
   "execution_count": 28,
   "metadata": {},
   "outputs": [],
   "source": [
    "X_treino = base_treino_teste['Abreviacoes']\n",
    "\n",
    "tfidf_transformer = TfidfVectorizer(analyzer = \"word\")\n",
    "X_tfidf = tfidf_transformer.fit_transform(X_treino)\n",
    "\n",
    "modelo_MNB, resultados_MNB  = _MNB(X_tfidf, y_treino)\n",
    "modelo_LR, resultados_LR = _LR(X_tfidf, y_treino)\n",
    "modelo_LSVM, resultados_LSVM = _LSVM(X_tfidf, y_treino)\n",
    "modelo_RF, resultados_RF = _RF(X_tfidf, y_treino)"
   ]
  },
  {
   "cell_type": "code",
   "execution_count": 29,
   "metadata": {},
   "outputs": [],
   "source": [
    "score_MNB = metrics.accuracy_score(y_treino, resultados_MNB)\n",
    "score_LR = metrics.accuracy_score(y_treino, resultados_LR)\n",
    "score_LSVM = metrics.accuracy_score(y_treino, resultados_LSVM)\n",
    "score_RF = metrics.accuracy_score(y_treino, resultados_RF)\n",
    "\n",
    "score_modelos = pd.concat([score_modelos, pd.DataFrame([[score_MNB, score_LR, score_LSVM, score_RF]], index=[\"Abreviações\"], columns=[\"Naive Bayes\", \"Regressão Logística\", \"Máquina de Vetores de Suporte\", \"Floresta Aleatória\"])])"
   ]
  },
  {
   "cell_type": "markdown",
   "metadata": {},
   "source": [
    "### Emoticons"
   ]
  },
  {
   "cell_type": "code",
   "execution_count": 30,
   "metadata": {},
   "outputs": [],
   "source": [
    "X_treino = base_treino_teste['Emoticons']\n",
    "\n",
    "tfidf_transformer = TfidfVectorizer(analyzer = \"word\")\n",
    "X_tfidf = tfidf_transformer.fit_transform(X_treino)\n",
    "\n",
    "modelo_MNB, resultados_MNB  = _MNB(X_tfidf, y_treino)\n",
    "modelo_LR, resultados_LR = _LR(X_tfidf, y_treino)\n",
    "modelo_LSVM, resultados_LSVM = _LSVM(X_tfidf, y_treino)\n",
    "modelo_RF, resultados_RF = _RF(X_tfidf, y_treino)"
   ]
  },
  {
   "cell_type": "code",
   "execution_count": 31,
   "metadata": {},
   "outputs": [],
   "source": [
    "score_MNB = metrics.accuracy_score(y_treino, resultados_MNB)\n",
    "score_LR = metrics.accuracy_score(y_treino, resultados_LR)\n",
    "score_LSVM = metrics.accuracy_score(y_treino, resultados_LSVM)\n",
    "score_RF = metrics.accuracy_score(y_treino, resultados_RF)\n",
    "\n",
    "score_modelos = pd.concat([score_modelos, pd.DataFrame([[score_MNB, score_LR, score_LSVM, score_RF]], index=[\"Emoticons\"], columns=[\"Naive Bayes\", \"Regressão Logística\", \"Máquina de Vetores de Suporte\", \"Floresta Aleatória\"])])"
   ]
  },
  {
   "cell_type": "markdown",
   "metadata": {},
   "source": [
    "### Stopwords"
   ]
  },
  {
   "cell_type": "code",
   "execution_count": 32,
   "metadata": {},
   "outputs": [],
   "source": [
    "X_treino = base_treino_teste['Stopwords']\n",
    "\n",
    "tfidf_transformer = TfidfVectorizer(analyzer = \"word\")\n",
    "X_tfidf = tfidf_transformer.fit_transform(X_treino)\n",
    "\n",
    "modelo_MNB, resultados_MNB  = _MNB(X_tfidf, y_treino)\n",
    "modelo_LR, resultados_LR = _LR(X_tfidf, y_treino)\n",
    "modelo_LSVM, resultados_LSVM = _LSVM(X_tfidf, y_treino)\n",
    "modelo_RF, resultados_RF = _RF(X_tfidf, y_treino)"
   ]
  },
  {
   "cell_type": "code",
   "execution_count": 33,
   "metadata": {},
   "outputs": [],
   "source": [
    "score_MNB = metrics.accuracy_score(y_treino, resultados_MNB)\n",
    "score_LR = metrics.accuracy_score(y_treino, resultados_LR)\n",
    "score_LSVM = metrics.accuracy_score(y_treino, resultados_LSVM)\n",
    "score_RF = metrics.accuracy_score(y_treino, resultados_RF)\n",
    "\n",
    "score_modelos = pd.concat([score_modelos, pd.DataFrame([[score_MNB, score_LR, score_LSVM, score_RF]], index=[\"Stopwords\"], columns=[\"Naive Bayes\", \"Regressão Logística\", \"Máquina de Vetores de Suporte\", \"Floresta Aleatória\"])])"
   ]
  },
  {
   "cell_type": "markdown",
   "metadata": {},
   "source": [
    "### Alem dos testes com pré-processamento, também sera feita um com bigramas"
   ]
  },
  {
   "cell_type": "code",
   "execution_count": 34,
   "metadata": {},
   "outputs": [],
   "source": [
    "X_treino = base_treino_teste['Stopwords']\n",
    "\n",
    "tfidf_transformer = TfidfVectorizer(ngram_range = (1, 2), analyzer = \"word\")\n",
    "X_tfidf = tfidf_transformer.fit_transform(X_treino)\n",
    "\n",
    "modelo_MNB, resultados_MNB  = _MNB(X_tfidf, y_treino)\n",
    "modelo_LR, resultados_LR = _LR(X_tfidf, y_treino)\n",
    "modelo_LSVM, resultados_LSVM = _LSVM(X_tfidf, y_treino)\n",
    "modelo_RF, resultados_RF = _RF(X_tfidf, y_treino)"
   ]
  },
  {
   "cell_type": "code",
   "execution_count": 35,
   "metadata": {},
   "outputs": [],
   "source": [
    "score_MNB = metrics.accuracy_score(y_treino, resultados_MNB)\n",
    "score_LR = metrics.accuracy_score(y_treino, resultados_LR)\n",
    "score_LSVM = metrics.accuracy_score(y_treino, resultados_LSVM)\n",
    "score_RF = metrics.accuracy_score(y_treino, resultados_RF)\n",
    "\n",
    "score_modelos = pd.concat([score_modelos, pd.DataFrame([[score_MNB, score_LR, score_LSVM, score_RF]], index=[\"Bigrama\"], columns=[\"Naive Bayes\", \"Regressão Logística\", \"Máquina de Vetores de Suporte\", \"Floresta Aleatória\"])])"
   ]
  },
  {
   "cell_type": "markdown",
   "metadata": {},
   "source": [
    "### Conferindo as métricas de validação"
   ]
  },
  {
   "cell_type": "code",
   "execution_count": 36,
   "metadata": {},
   "outputs": [
    {
     "name": "stdout",
     "output_type": "stream",
     "text": [
      "              precision    recall  f1-score   support\n",
      "\n",
      "    Positivo       0.85      0.88      0.86      4900\n",
      "    Negativo       0.83      0.94      0.88      4896\n",
      "      Neutro       0.90      0.75      0.82      4903\n",
      "\n",
      "    accuracy                           0.86     14699\n",
      "   macro avg       0.86      0.86      0.86     14699\n",
      "weighted avg       0.86      0.86      0.86     14699\n",
      "\n"
     ]
    }
   ],
   "source": [
    "sentimentos = [\"Positivo\", \"Negativo\", \"Neutro\"]\n",
    "print(metrics.classification_report(y_treino, resultados_MNB, sentimentos))"
   ]
  },
  {
   "cell_type": "code",
   "execution_count": 37,
   "metadata": {},
   "outputs": [
    {
     "name": "stdout",
     "output_type": "stream",
     "text": [
      "              precision    recall  f1-score   support\n",
      "\n",
      "    Positivo       0.96      0.96      0.96      4900\n",
      "    Negativo       0.97      0.92      0.94      4896\n",
      "      Neutro       0.89      0.94      0.91      4903\n",
      "\n",
      "    accuracy                           0.94     14699\n",
      "   macro avg       0.94      0.94      0.94     14699\n",
      "weighted avg       0.94      0.94      0.94     14699\n",
      "\n"
     ]
    }
   ],
   "source": [
    "sentimentos = [\"Positivo\", \"Negativo\", \"Neutro\"]\n",
    "print(metrics.classification_report(y_treino, resultados_LR, sentimentos))"
   ]
  },
  {
   "cell_type": "code",
   "execution_count": 38,
   "metadata": {},
   "outputs": [
    {
     "name": "stdout",
     "output_type": "stream",
     "text": [
      "              precision    recall  f1-score   support\n",
      "\n",
      "    Positivo       0.96      0.97      0.96      4900\n",
      "    Negativo       0.98      0.93      0.95      4896\n",
      "      Neutro       0.91      0.94      0.92      4903\n",
      "\n",
      "    accuracy                           0.95     14699\n",
      "   macro avg       0.95      0.95      0.95     14699\n",
      "weighted avg       0.95      0.95      0.95     14699\n",
      "\n"
     ]
    }
   ],
   "source": [
    "sentimentos = [\"Positivo\", \"Negativo\", \"Neutro\"]\n",
    "print(metrics.classification_report(y_treino, resultados_LSVM, sentimentos))"
   ]
  },
  {
   "cell_type": "code",
   "execution_count": 39,
   "metadata": {},
   "outputs": [
    {
     "name": "stdout",
     "output_type": "stream",
     "text": [
      "              precision    recall  f1-score   support\n",
      "\n",
      "    Positivo       0.97      0.96      0.96      4900\n",
      "    Negativo       0.97      0.93      0.95      4896\n",
      "      Neutro       0.91      0.95      0.93      4903\n",
      "\n",
      "    accuracy                           0.95     14699\n",
      "   macro avg       0.95      0.95      0.95     14699\n",
      "weighted avg       0.95      0.95      0.95     14699\n",
      "\n"
     ]
    }
   ],
   "source": [
    "sentimentos = [\"Positivo\", \"Negativo\", \"Neutro\"]\n",
    "print(metrics.classification_report(y_treino, resultados_RF, sentimentos))"
   ]
  },
  {
   "cell_type": "code",
   "execution_count": 40,
   "metadata": {},
   "outputs": [
    {
     "name": "stdout",
     "output_type": "stream",
     "text": [
      "Predito   Negativo  Neutro  Positivo    All\n",
      "Real                                       \n",
      "Negativo      4617     142       137   4896\n",
      "Neutro         598    3673       632   4903\n",
      "Positivo       332     255      4313   4900\n",
      "All           5547    4070      5082  14699\n"
     ]
    }
   ],
   "source": [
    "print(pd.crosstab(y_treino, resultados_MNB, rownames = [\"Real\"], colnames=[\"Predito\"], margins=True))"
   ]
  },
  {
   "cell_type": "code",
   "execution_count": 41,
   "metadata": {},
   "outputs": [
    {
     "name": "stdout",
     "output_type": "stream",
     "text": [
      "Predito   Negativo  Neutro  Positivo    All\n",
      "Real                                       \n",
      "Negativo      4491     377        28   4896\n",
      "Neutro         141    4594       168   4903\n",
      "Positivo         9     195      4696   4900\n",
      "All           4641    5166      4892  14699\n"
     ]
    }
   ],
   "source": [
    "print(pd.crosstab(y_treino, resultados_LR, rownames = [\"Real\"], colnames=[\"Predito\"], margins=True))"
   ]
  },
  {
   "cell_type": "code",
   "execution_count": 42,
   "metadata": {},
   "outputs": [
    {
     "name": "stdout",
     "output_type": "stream",
     "text": [
      "Predito   Negativo  Neutro  Positivo    All\n",
      "Real                                       \n",
      "Negativo      4559     314        23   4896\n",
      "Neutro         102    4620       181   4903\n",
      "Positivo        10     159      4731   4900\n",
      "All           4671    5093      4935  14699\n"
     ]
    }
   ],
   "source": [
    "print(pd.crosstab(y_treino, resultados_LSVM, rownames = [\"Real\"], colnames=[\"Predito\"], margins=True))"
   ]
  },
  {
   "cell_type": "code",
   "execution_count": 43,
   "metadata": {},
   "outputs": [
    {
     "name": "stdout",
     "output_type": "stream",
     "text": [
      "Predito   Negativo  Neutro  Positivo    All\n",
      "Real                                       \n",
      "Negativo      4558     322        16   4896\n",
      "Neutro         108    4641       154   4903\n",
      "Positivo        15     160      4725   4900\n",
      "All           4681    5123      4895  14699\n"
     ]
    }
   ],
   "source": [
    "print(pd.crosstab(y_treino, resultados_RF, rownames = [\"Real\"], colnames=[\"Predito\"], margins=True))"
   ]
  },
  {
   "cell_type": "markdown",
   "metadata": {},
   "source": [
    "## Acurácia"
   ]
  },
  {
   "cell_type": "code",
   "execution_count": 44,
   "metadata": {},
   "outputs": [
    {
     "data": {
      "text/html": [
       "<style  type=\"text/css\" >\n",
       "    #T_356e7538_1aeb_11eb_b7a9_8cec4b2453f0 th {\n",
       "          font-size: 120%;\n",
       "          text-align: center;\n",
       "    }    #T_356e7538_1aeb_11eb_b7a9_8cec4b2453f0 td {\n",
       "          font-size: 120%;\n",
       "          text-align: center;\n",
       "    }</style><table id=\"T_356e7538_1aeb_11eb_b7a9_8cec4b2453f0\" ><thead>    <tr>        <th class=\"blank level0\" ></th>        <th class=\"col_heading level0 col0\" >Naive Bayes</th>        <th class=\"col_heading level0 col1\" >Regressão Logística</th>        <th class=\"col_heading level0 col2\" >Máquina de Vetores de Suporte</th>        <th class=\"col_heading level0 col3\" >Floresta Aleatória</th>    </tr></thead><tbody>\n",
       "                <tr>\n",
       "                        <th id=\"T_356e7538_1aeb_11eb_b7a9_8cec4b2453f0level0_row0\" class=\"row_heading level0 row0\" >Bruto</th>\n",
       "                        <td id=\"T_356e7538_1aeb_11eb_b7a9_8cec4b2453f0row0_col0\" class=\"data row0 col0\" >0.789101</td>\n",
       "                        <td id=\"T_356e7538_1aeb_11eb_b7a9_8cec4b2453f0row0_col1\" class=\"data row0 col1\" >0.830601</td>\n",
       "                        <td id=\"T_356e7538_1aeb_11eb_b7a9_8cec4b2453f0row0_col2\" class=\"data row0 col2\" >0.842166</td>\n",
       "                        <td id=\"T_356e7538_1aeb_11eb_b7a9_8cec4b2453f0row0_col3\" class=\"data row0 col3\" >0.829036</td>\n",
       "            </tr>\n",
       "            <tr>\n",
       "                        <th id=\"T_356e7538_1aeb_11eb_b7a9_8cec4b2453f0level0_row1\" class=\"row_heading level0 row1\" >URLs</th>\n",
       "                        <td id=\"T_356e7538_1aeb_11eb_b7a9_8cec4b2453f0row1_col0\" class=\"data row1 col0\" >0.792639</td>\n",
       "                        <td id=\"T_356e7538_1aeb_11eb_b7a9_8cec4b2453f0row1_col1\" class=\"data row1 col1\" >0.830124</td>\n",
       "                        <td id=\"T_356e7538_1aeb_11eb_b7a9_8cec4b2453f0row1_col2\" class=\"data row1 col2\" >0.840533</td>\n",
       "                        <td id=\"T_356e7538_1aeb_11eb_b7a9_8cec4b2453f0row1_col3\" class=\"data row1 col3\" >0.817743</td>\n",
       "            </tr>\n",
       "            <tr>\n",
       "                        <th id=\"T_356e7538_1aeb_11eb_b7a9_8cec4b2453f0level0_row2\" class=\"row_heading level0 row2\" >Hashtags</th>\n",
       "                        <td id=\"T_356e7538_1aeb_11eb_b7a9_8cec4b2453f0row2_col0\" class=\"data row2 col0\" >0.774747</td>\n",
       "                        <td id=\"T_356e7538_1aeb_11eb_b7a9_8cec4b2453f0row2_col1\" class=\"data row2 col1\" >0.809171</td>\n",
       "                        <td id=\"T_356e7538_1aeb_11eb_b7a9_8cec4b2453f0row2_col2\" class=\"data row2 col2\" >0.81611</td>\n",
       "                        <td id=\"T_356e7538_1aeb_11eb_b7a9_8cec4b2453f0row2_col3\" class=\"data row2 col3\" >0.797265</td>\n",
       "            </tr>\n",
       "            <tr>\n",
       "                        <th id=\"T_356e7538_1aeb_11eb_b7a9_8cec4b2453f0level0_row3\" class=\"row_heading level0 row3\" >Menções</th>\n",
       "                        <td id=\"T_356e7538_1aeb_11eb_b7a9_8cec4b2453f0row3_col0\" class=\"data row3 col0\" >0.769576</td>\n",
       "                        <td id=\"T_356e7538_1aeb_11eb_b7a9_8cec4b2453f0row3_col1\" class=\"data row3 col1\" >0.79815</td>\n",
       "                        <td id=\"T_356e7538_1aeb_11eb_b7a9_8cec4b2453f0row3_col2\" class=\"data row3 col2\" >0.807334</td>\n",
       "                        <td id=\"T_356e7538_1aeb_11eb_b7a9_8cec4b2453f0row3_col3\" class=\"data row3 col3\" >0.787877</td>\n",
       "            </tr>\n",
       "            <tr>\n",
       "                        <th id=\"T_356e7538_1aeb_11eb_b7a9_8cec4b2453f0level0_row4\" class=\"row_heading level0 row4\" >Abreviações</th>\n",
       "                        <td id=\"T_356e7538_1aeb_11eb_b7a9_8cec4b2453f0row4_col0\" class=\"data row4 col0\" >0.765426</td>\n",
       "                        <td id=\"T_356e7538_1aeb_11eb_b7a9_8cec4b2453f0row4_col1\" class=\"data row4 col1\" >0.802504</td>\n",
       "                        <td id=\"T_356e7538_1aeb_11eb_b7a9_8cec4b2453f0row4_col2\" class=\"data row4 col2\" >0.806858</td>\n",
       "                        <td id=\"T_356e7538_1aeb_11eb_b7a9_8cec4b2453f0row4_col3\" class=\"data row4 col3\" >0.78985</td>\n",
       "            </tr>\n",
       "            <tr>\n",
       "                        <th id=\"T_356e7538_1aeb_11eb_b7a9_8cec4b2453f0level0_row5\" class=\"row_heading level0 row5\" >Emoticons</th>\n",
       "                        <td id=\"T_356e7538_1aeb_11eb_b7a9_8cec4b2453f0row5_col0\" class=\"data row5 col0\" >0.829784</td>\n",
       "                        <td id=\"T_356e7538_1aeb_11eb_b7a9_8cec4b2453f0row5_col1\" class=\"data row5 col1\" >0.924689</td>\n",
       "                        <td id=\"T_356e7538_1aeb_11eb_b7a9_8cec4b2453f0row5_col2\" class=\"data row5 col2\" >0.920063</td>\n",
       "                        <td id=\"T_356e7538_1aeb_11eb_b7a9_8cec4b2453f0row5_col3\" class=\"data row5 col3\" >0.941765</td>\n",
       "            </tr>\n",
       "            <tr>\n",
       "                        <th id=\"T_356e7538_1aeb_11eb_b7a9_8cec4b2453f0level0_row6\" class=\"row_heading level0 row6\" >Stopwords</th>\n",
       "                        <td id=\"T_356e7538_1aeb_11eb_b7a9_8cec4b2453f0row6_col0\" class=\"data row6 col0\" >0.837948</td>\n",
       "                        <td id=\"T_356e7538_1aeb_11eb_b7a9_8cec4b2453f0row6_col1\" class=\"data row6 col1\" >0.921355</td>\n",
       "                        <td id=\"T_356e7538_1aeb_11eb_b7a9_8cec4b2453f0row6_col2\" class=\"data row6 col2\" >0.917409</td>\n",
       "                        <td id=\"T_356e7538_1aeb_11eb_b7a9_8cec4b2453f0row6_col3\" class=\"data row6 col3\" >0.946323</td>\n",
       "            </tr>\n",
       "            <tr>\n",
       "                        <th id=\"T_356e7538_1aeb_11eb_b7a9_8cec4b2453f0level0_row7\" class=\"row_heading level0 row7\" >Bigrama</th>\n",
       "                        <td id=\"T_356e7538_1aeb_11eb_b7a9_8cec4b2453f0row7_col0\" class=\"data row7 col0\" >0.857405</td>\n",
       "                        <td id=\"T_356e7538_1aeb_11eb_b7a9_8cec4b2453f0row7_col1\" class=\"data row7 col1\" >0.937547</td>\n",
       "                        <td id=\"T_356e7538_1aeb_11eb_b7a9_8cec4b2453f0row7_col2\" class=\"data row7 col2\" >0.946323</td>\n",
       "                        <td id=\"T_356e7538_1aeb_11eb_b7a9_8cec4b2453f0row7_col3\" class=\"data row7 col3\" >0.947275</td>\n",
       "            </tr>\n",
       "    </tbody></table>"
      ],
      "text/plain": [
       "<pandas.io.formats.style.Styler at 0x257a3cccb88>"
      ]
     },
     "execution_count": 44,
     "metadata": {},
     "output_type": "execute_result"
    }
   ],
   "source": [
    "score_modelos.style.set_table_styles([\n",
    "    {'selector' : 'th', 'props' : [(\"font-size\", \"120%\"), (\"text-align\", \"center\")]},\n",
    "    {'selector' : 'td', 'props' : [(\"font-size\", \"120%\"), (\"text-align\", \"center\")]},\n",
    "])"
   ]
  },
  {
   "cell_type": "code",
   "execution_count": 45,
   "metadata": {},
   "outputs": [
    {
     "data": {
      "text/plain": [
       "<matplotlib.legend.Legend at 0x257a3d854c8>"
      ]
     },
     "execution_count": 45,
     "metadata": {},
     "output_type": "execute_result"
    },
    {
     "data": {
      "image/png": "[encoded data removed]",
      "text/plain": [
       "<Figure size 864x432 with 1 Axes>"
      ]
     },
     "metadata": {
      "needs_background": "light"
     },
     "output_type": "display_data"
    }
   ],
   "source": [
    "ax = score_modelos.mul(100, fill_value=0).plot(figsize=(12, 6), grid='True')\n",
    "ax.set_ylabel('Acurácia (%)', fontsize=20)\n",
    "ax.set_yticks([70, 75, 80, 85, 90, 95, 100])\n",
    "plt.yticks(fontsize=15)\n",
    "plt.xticks(rotation=30, fontsize=15)\n",
    "ax.legend(bbox_to_anchor=(1, 1), loc=0, fontsize=15)"
   ]
  },
  {
   "cell_type": "markdown",
   "metadata": {},
   "source": [
    "# Salvando os modelos "
   ]
  },
  {
   "cell_type": "code",
   "execution_count": 46,
   "metadata": {},
   "outputs": [
    {
     "data": {
      "text/plain": [
       "['random_forest.joblib']"
      ]
     },
     "execution_count": 46,
     "metadata": {},
     "output_type": "execute_result"
    }
   ],
   "source": [
    "dump(modelo_MNB, 'naive_bayes.joblib') \n",
    "dump(modelo_LR, 'logistic_regression.joblib') \n",
    "dump(modelo_LSVM, 'linear_SVM.joblib') \n",
    "dump(modelo_RF, 'random_forest.joblib') "
   ]
  },
  {
   "cell_type": "code",
   "execution_count": 47,
   "metadata": {},
   "outputs": [
    {
     "data": {
      "text/plain": [
       "['vectorizer.joblib']"
      ]
     },
     "execution_count": 47,
     "metadata": {},
     "output_type": "execute_result"
    }
   ],
   "source": [
    "dump(tfidf_transformer, 'vectorizer.joblib')"
   ]
  },
  {
   "cell_type": "code",
   "execution_count": null,
   "metadata": {},
   "outputs": [],
   "source": []
  }
 ],
 "metadata": {
  "kernelspec": {
   "display_name": "Python 3",
   "language": "python",
   "name": "python3"
  },
  "language_info": {
   "codemirror_mode": {
    "name": "ipython",
    "version": 3
   },
   "file_extension": ".py",
   "mimetype": "text/x-python",
   "name": "python",
   "nbconvert_exporter": "python",
   "pygments_lexer": "ipython3",
   "version": "3.7.4"
  }
 },
 "nbformat": 4,
 "nbformat_minor": 2
}
